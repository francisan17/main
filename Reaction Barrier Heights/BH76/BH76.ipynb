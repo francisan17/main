{
 "cells": [
  {
   "cell_type": "code",
   "execution_count": 106,
   "id": "bbe4ef64-c985-49c7-bf3d-bd0358bec342",
   "metadata": {},
   "outputs": [],
   "source": [
    "import pymolpro\n",
    "import pandas as pd"
   ]
  },
  {
   "cell_type": "code",
   "execution_count": 107,
   "id": "6c3db252-0cd1-4a61-bbf6-68ab3f182dbc",
   "metadata": {},
   "outputs": [],
   "source": [
    "backend = 'local' \n",
    "project_name = 'BH76_methodtest'\n",
    "parallel = 8"
   ]
  },
  {
   "cell_type": "code",
   "execution_count": 108,
   "id": "c93326a5-850e-4cc3-a382-db95485a2844",
   "metadata": {},
   "outputs": [],
   "source": [
    "methods = {\"HF\": \"hf\",\n",
    "\"MP2\": \"mp2\",\n",
    "\"MP3\": \"mp3\",\n",
    "\"MP4\": \"mp4\",\n",
    "\"PAPT2\":\"PAPT;MP2\",\n",
    "\"PAPT3\":\"PAPT;MP3\",\n",
    "\"PAPT4\":\"PAPT;MP4\",\n",
    "\"CCSD\":\"CCSD\",\n",
    "\"CCSD(T)\":\"CCSD(T)\" }\n",
    "bases = ['cc-pVDZ','cc-pVTZ']"
   ]
  },
  {
   "cell_type": "code",
   "execution_count": 109,
   "id": "582c7d92-df29-452b-8f25-45cd9a523440",
   "metadata": {},
   "outputs": [],
   "source": [
    "db = pymolpro.database.load(\"GMTKN55_BH76\")"
   ]
  },
  {
   "cell_type": "code",
   "execution_count": 110,
   "id": "0eed350d-a331-4901-b5d6-03c0e39de744",
   "metadata": {},
   "outputs": [
    {
     "name": "stdout",
     "output_type": "stream",
     "text": [
      "GMTKN55 BH76 (closed shell only) (maximum number of electrons 30):\n",
      "\n",
      "Molecules:\n",
      "ch3f: {'geometry': '           5\\n  \\n    C          0.00000000      0.00000000      0.06556637\\n    F          0.00000000      0.00000000     -1.31562859\\n    H          0.51491633     -0.89186125      0.41668741\\n    H          0.51491633      0.89186125      0.41668741\\n    H         -1.02983267      0.00000000      0.41668741\\n', 'description': 'ch3f'}\n",
      "fch3fcomp: {'geometry': '           6\\n  \\n    F          0.00000000      0.00000000     -1.79137135\\n    C          0.00000000      0.00000000     -0.36561703\\n    H         -0.51179113      0.88644824     -0.01758668\\n    H         -0.51179113     -0.88644824     -0.01758668\\n    H          1.02358226      0.00000000     -0.01758668\\n    F          0.00000000      0.00000000      2.20974841\\n', 'description': 'fch3fcomp', 'charge': -1}\n",
      "fch3fts: {'geometry': '           6\\n  \\n    F          1.82355879      0.00051927      0.00010874\\n    C          0.00014416     -0.00008973     -0.00018227\\n    H          0.00006416     -0.30488877      1.02506923\\n    H          0.00028716      1.04017819     -0.24893240\\n    H         -0.00009484     -0.73625925     -0.77617604\\n    F         -1.82395944      0.00054027      0.00011274\\n', 'description': 'fch3fts', 'charge': -1}\n",
      "hcn: {'geometry': '           3\\n  \\n    C          0.00000000      0.00000000     -0.02902643\\n    N          0.00000000      0.00000000      1.12397830\\n    H          0.00000000      0.00000000     -1.09495187\\n', 'description': 'hcn'}\n",
      "ch3oh: {'geometry': '           6\\n  \\n    C         -0.13926933      0.33472048      0.00000000\\n    O         -0.13926933     -1.08341104      0.00000000\\n    H         -1.17980283      0.64759124      0.00000000\\n    H          0.76774408     -1.38539133      0.00000000\\n    H          0.34529870      0.74324532      0.88954166\\n    H          0.34529870      0.74324532     -0.88954166\\n', 'description': 'ch3oh'}\n",
      "hoch3fcomp2: {'geometry': '           7\\n  \\n    F          2.24953292     -0.16163470     -0.00906451\\n    C          0.83989310      0.02030650      0.00310752\\n    H          0.35178382     -0.87134447     -0.36481550\\n    H          0.52242274      0.21318049      1.01958309\\n    H          0.60022397      0.86229312     -0.63454561\\n    O         -1.81896698     -0.15832046     -0.00598050\\n    H         -2.74488958      0.09551952     -0.00828450\\n', 'description': 'hoch3fcomp2', 'charge': -1}\n",
      "oh-: {'geometry': '           2\\n  \\n    O          0.00000000      0.00000000      0.48102212\\n    H          0.00000000      0.00000000     -0.48102212\\n', 'description': 'oh-', 'charge': -1}\n",
      "hoch3fts: {'geometry': '           7\\n  \\n    F          2.13770264      0.08258780     -0.00019942\\n    C          0.37794222      0.10635278      0.00019758\\n    H          0.32799218      1.17531485     -0.01182043\\n    H          0.32424814     -0.43224626     -0.92301475\\n    H          0.32457115     -0.41169619      0.93505886\\n    O         -1.60571838      0.19903310     -0.00018942\\n    H         -1.88673796     -0.71934608     -0.00003242\\n', 'description': 'hoch3fts', 'charge': -1}\n",
      "hcnts: {'geometry': '           3\\n  \\n    C          0.37482171      0.51783010      0.00000000\\n    N          0.37482171     -0.67052208      0.00000000\\n    H         -0.74964343      0.15269198      0.00000000\\n', 'description': 'hcnts'}\n",
      "f-: {'geometry': '           1\\n  \\n    F          0.00000000      0.00000000      0.00000000\\n', 'description': 'f-', 'charge': -1}\n",
      "hnc: {'geometry': '           3\\n  \\n    C          0.00000000      0.00000000     -1.11118191\\n    N          0.00000000      0.00000000      0.05815587\\n    H          0.00000000      0.00000000      1.05302603\\n', 'description': 'hnc'}\n",
      "hoch3fcomp1: {'geometry': '           7\\n  \\n    C         -0.70348642     -0.15745798     -0.00001606\\n    O          0.11728813      0.96008129      0.00007194\\n    H         -1.75741170      0.15182813     -0.00862109\\n    H         -0.54634194     -0.80376173     -0.87808291\\n    H         -0.55866648     -0.79545365      0.88637925\\n    H          1.10509166      0.60322056      0.00026094\\n    F          2.34352676      0.04154336      0.00000794\\n', 'description': 'hoch3fcomp1', 'charge': -1}\n",
      "\n",
      "Reactions:\n",
      "13: f- + ch3f -> fch3fts, energy = -0.000956160864\n",
      "14: ch3f + f- -> fch3fts, energy = -0.000956160864\n",
      "15: fch3fcomp -> fch3fts, energy = 0.021354259296\n",
      "16: fch3fcomp -> fch3fts, energy = 0.021354259296\n",
      "25: oh- + ch3f -> hoch3fts, energy = -0.004302723888\n",
      "26: ch3oh + f- -> hoch3fts, energy = 0.028047385344000003\n",
      "27: hoch3fcomp2 -> hoch3fts, energy = 0.01752961584\n",
      "28: hoch3fcomp1 -> hoch3fts, energy = 0.076014788688\n",
      "37: hcn -> hcnts, energy = 0.076652229264\n",
      "38: hnc -> hcnts, energy = 0.05258884752\n",
      "\n",
      "\n"
     ]
    }
   ],
   "source": [
    "small=db.subset(open_shell=False,max_electrons=30)\n",
    "print(small)"
   ]
  },
  {
   "cell_type": "code",
   "execution_count": 111,
   "id": "93e291a8-29f7-43b0-8330-31993058f00f",
   "metadata": {},
   "outputs": [
    {
     "name": "stdout",
     "output_type": "stream",
     "text": [
      "{'HF': {'cc-pVDZ': <pymolpro.database.Database object at 0x7f8ef3b75e10>, 'cc-pVTZ': <pymolpro.database.Database object at 0x7f8ef3fde8f0>}, 'MP2': {'cc-pVDZ': <pymolpro.database.Database object at 0x7f8ef3cfc820>, 'cc-pVTZ': <pymolpro.database.Database object at 0x7f8ef3b754b0>}, 'MP3': {'cc-pVDZ': <pymolpro.database.Database object at 0x7f8ef3b360b0>, 'cc-pVTZ': <pymolpro.database.Database object at 0x7f8ef3b36500>}, 'MP4': {'cc-pVDZ': <pymolpro.database.Database object at 0x7f8ef3ba5b70>, 'cc-pVTZ': <pymolpro.database.Database object at 0x7f8ef3ba5a80>}, 'PAPT2': {'cc-pVDZ': <pymolpro.database.Database object at 0x7f8ef3ba5600>, 'cc-pVTZ': <pymolpro.database.Database object at 0x7f8ef3ba5150>}, 'PAPT3': {'cc-pVDZ': <pymolpro.database.Database object at 0x7f8eb6278850>, 'cc-pVTZ': <pymolpro.database.Database object at 0x7f8eb62d8790>}, 'PAPT4': {'cc-pVDZ': <pymolpro.database.Database object at 0x7f8ef3ba7430>, 'cc-pVTZ': <pymolpro.database.Database object at 0x7f8ef3b85b70>}, 'CCSD': {'cc-pVDZ': <pymolpro.database.Database object at 0x7f8ef3b858a0>, 'cc-pVTZ': <pymolpro.database.Database object at 0x7f8ef3b851e0>}, 'CCSD(T)': {'cc-pVDZ': <pymolpro.database.Database object at 0x7f8ef3c60f70>, 'cc-pVTZ': <pymolpro.database.Database object at 0x7f8ef3b851b0>}}\n"
     ]
    }
   ],
   "source": [
    "results = {}\n",
    "for method in methods:\n",
    "    results[method] = {}\n",
    "    for basis in bases:\n",
    "        results[method][basis] = pymolpro.database.run(small, methods[method], basis, location=project_name,\n",
    "                                                       preamble= 'angstrom' ,backend=backend ,parallel=parallel)\n",
    "        if results[method][basis].failed: print(method, basis, 'failed', results[method][basis].project_directory)\n",
    "        \n",
    "print(results)    "
   ]
  },
  {
   "cell_type": "code",
   "execution_count": 112,
   "id": "1f37db6e-53b4-4f36-9910-c636d4c18056",
   "metadata": {},
   "outputs": [
    {
     "name": "stdout",
     "output_type": "stream",
     "text": [
      "{'HF': <pymolpro.database.Database object at 0x7f8ef3b85240>, 'MP2': <pymolpro.database.Database object at 0x7f8ef3b858d0>, 'MP3': <pymolpro.database.Database object at 0x7f8ef3cff820>, 'MP4': <pymolpro.database.Database object at 0x7f8ef3cff6d0>, 'PAPT2': <pymolpro.database.Database object at 0x7f8ef3cff370>, 'PAPT3': <pymolpro.database.Database object at 0x7f8ef3cff190>, 'PAPT4': <pymolpro.database.Database object at 0x7f8ef3cff9a0>, 'CCSD': <pymolpro.database.Database object at 0x7f8ef3cff670>, 'CCSD(T)': <pymolpro.database.Database object at 0x7f8ef3cffac0>}\n"
     ]
    }
   ],
   "source": [
    "extrapolate={}\n",
    "for method in  methods:\n",
    "    extrapolate[method]=pymolpro.database.basis_extrapolate                   (results[method].values(), results[\"HF\"].values())[0]\n",
    "print(extrapolate)"
   ]
  },
  {
   "cell_type": "code",
   "execution_count": 113,
   "id": "de817604-6384-4f53-a799-bb0187a56b0f",
   "metadata": {},
   "outputs": [
    {
     "data": {
      "text/html": [
       "<div>\n",
       "<style scoped>\n",
       "    .dataframe tbody tr th:only-of-type {\n",
       "        vertical-align: middle;\n",
       "    }\n",
       "\n",
       "    .dataframe tbody tr th {\n",
       "        vertical-align: top;\n",
       "    }\n",
       "\n",
       "    .dataframe thead th {\n",
       "        text-align: right;\n",
       "    }\n",
       "</style>\n",
       "<table border=\"1\" class=\"dataframe\">\n",
       "  <thead>\n",
       "    <tr style=\"text-align: right;\">\n",
       "      <th></th>\n",
       "      <th>HF/cc-pV[23]Z</th>\n",
       "      <th>MP2/cc-pV[23]Z</th>\n",
       "      <th>MP3/cc-pV[23]Z</th>\n",
       "      <th>MP4/cc-pV[23]Z</th>\n",
       "      <th>PAPT;MP2/cc-pV[23]Z</th>\n",
       "      <th>PAPT;MP3/cc-pV[23]Z</th>\n",
       "      <th>PAPT;MP4/cc-pV[23]Z</th>\n",
       "      <th>CCSD/cc-pV[23]Z</th>\n",
       "      <th>CCSD(T)/cc-pV[23]Z</th>\n",
       "    </tr>\n",
       "  </thead>\n",
       "  <tbody>\n",
       "    <tr>\n",
       "      <th>MAD</th>\n",
       "      <td>35.28</td>\n",
       "      <td>3.84</td>\n",
       "      <td>17.89</td>\n",
       "      <td>7.12</td>\n",
       "      <td>15.43</td>\n",
       "      <td>15.46</td>\n",
       "      <td>2.90</td>\n",
       "      <td>10.05</td>\n",
       "      <td>0.00</td>\n",
       "    </tr>\n",
       "    <tr>\n",
       "      <th>MAXD</th>\n",
       "      <td>60.41</td>\n",
       "      <td>18.08</td>\n",
       "      <td>26.86</td>\n",
       "      <td>10.52</td>\n",
       "      <td>22.78</td>\n",
       "      <td>22.73</td>\n",
       "      <td>3.72</td>\n",
       "      <td>16.26</td>\n",
       "      <td>0.00</td>\n",
       "    </tr>\n",
       "    <tr>\n",
       "      <th>RMSD</th>\n",
       "      <td>39.15</td>\n",
       "      <td>6.30</td>\n",
       "      <td>19.05</td>\n",
       "      <td>7.51</td>\n",
       "      <td>16.29</td>\n",
       "      <td>16.30</td>\n",
       "      <td>3.09</td>\n",
       "      <td>10.98</td>\n",
       "      <td>0.00</td>\n",
       "    </tr>\n",
       "    <tr>\n",
       "      <th>MSD</th>\n",
       "      <td>35.06</td>\n",
       "      <td>3.68</td>\n",
       "      <td>17.89</td>\n",
       "      <td>-5.74</td>\n",
       "      <td>15.43</td>\n",
       "      <td>15.46</td>\n",
       "      <td>2.90</td>\n",
       "      <td>10.05</td>\n",
       "      <td>0.00</td>\n",
       "    </tr>\n",
       "    <tr>\n",
       "      <th>STDEVD</th>\n",
       "      <td>18.35</td>\n",
       "      <td>5.39</td>\n",
       "      <td>6.92</td>\n",
       "      <td>5.10</td>\n",
       "      <td>5.49</td>\n",
       "      <td>5.46</td>\n",
       "      <td>1.12</td>\n",
       "      <td>4.67</td>\n",
       "      <td>0.00</td>\n",
       "    </tr>\n",
       "  </tbody>\n",
       "</table>\n",
       "</div>"
      ],
      "text/plain": [
       "        HF/cc-pV[23]Z  MP2/cc-pV[23]Z  MP3/cc-pV[23]Z  MP4/cc-pV[23]Z   \n",
       "MAD             35.28            3.84           17.89            7.12  \\\n",
       "MAXD            60.41           18.08           26.86           10.52   \n",
       "RMSD            39.15            6.30           19.05            7.51   \n",
       "MSD             35.06            3.68           17.89           -5.74   \n",
       "STDEVD          18.35            5.39            6.92            5.10   \n",
       "\n",
       "        PAPT;MP2/cc-pV[23]Z  PAPT;MP3/cc-pV[23]Z  PAPT;MP4/cc-pV[23]Z   \n",
       "MAD                   15.43                15.46                 2.90  \\\n",
       "MAXD                  22.78                22.73                 3.72   \n",
       "RMSD                  16.29                16.30                 3.09   \n",
       "MSD                   15.43                15.46                 2.90   \n",
       "STDEVD                 5.49                 5.46                 1.12   \n",
       "\n",
       "        CCSD/cc-pV[23]Z  CCSD(T)/cc-pV[23]Z  \n",
       "MAD               10.05                0.00  \n",
       "MAXD              16.26                0.00  \n",
       "RMSD              10.98                0.00  \n",
       "MSD               10.05                0.00  \n",
       "STDEVD             4.67                0.00  "
      ]
     },
     "execution_count": 113,
     "metadata": {},
     "output_type": "execute_result"
    }
   ],
   "source": [
    "results_with_extrapolation = results\n",
    "for method in results_with_extrapolation.keys():\n",
    "    results_with_extrapolation[method]['cc-pV[23]Z'] = extrapolate[method]\n",
    "results_with_extrapolation\n",
    "results = results_with_extrapolation\n",
    "\n",
    "pd.options.display.float_format = '{:,.2f}'.format\n",
    "analyse=pymolpro.database.analyse([result['cc-pV[23]Z'] for result in results.values()],results['CCSD(T)']['cc-pV[23]Z'],unit='kJ/mol')\n",
    "analyse['reaction statistics']"
   ]
  },
  {
   "cell_type": "code",
   "execution_count": 114,
   "id": "e35b1188-3a64-4c49-bfde-c79c76b67225",
   "metadata": {},
   "outputs": [
    {
     "data": {
      "image/png": "[encoded data removed]",
      "text/plain": [
       "<Figure size 1800x600 with 2 Axes>"
      ]
     },
     "metadata": {},
     "output_type": "display_data"
    }
   ],
   "source": [
    "import matplotlib.pyplot as plt\n",
    "\n",
    "methods_pruned = [method for method in methods if (method != 'HF') and (method != 'CCSD(T)')]\n",
    "bases_pruned = ['cc-pV[23]Z', 'cc-pVTZ']\n",
    "fig, panes = plt.subplots(nrows=1, ncols=len(bases_pruned), sharey=True, figsize=(18, 6))\n",
    "\n",
    "for pane in range(len(bases_pruned)):\n",
    "    data = []\n",
    "    for method in methods_pruned:\n",
    "        data.append(\n",
    "            pymolpro.database.analyse(results[method][bases_pruned[pane]],\n",
    "                                      results['CCSD(T)']['cc-pV[23]Z'],'kJ/mol')['reaction energy deviations'].to_numpy()[:, 0]\n",
    "        )\n",
    "    panes[pane].violinplot(data, showmeans=True, showextrema=True, vert=True, bw_method='silverman')\n",
    "    panes[pane].set_xticks(range(1, len(methods_pruned) + 1), labels=methods_pruned, rotation=-90)\n",
    "    panes[pane].set_title(bases_pruned[pane])\n",
    "panes[0].set_ylabel('Error / kJ/mol')\n",
    "plt.savefig(project_name + \".violin.pdf\")\n",
    "df = pd.DataFrame(data)\n",
    "df.to_excel(\"PAPT.xlsx\")"
   ]
  },
  {
   "cell_type": "code",
   "execution_count": 87,
   "id": "769892ba-0bd5-4fce-b73e-7a5bf7f15d85",
   "metadata": {},
   "outputs": [
    {
     "data": {
      "text/plain": [
       "[<pymolpro.database.Database at 0x7f8eb6ace260>]"
      ]
     },
     "execution_count": 87,
     "metadata": {},
     "output_type": "execute_result"
    }
   ],
   "source": [
    "extrapolate=pymolpro.database.basis_extrapolate(results[method].values(), results[\"HF\"].values())\n",
    "extrapolate"
   ]
  }
 ],
 "metadata": {
  "kernelspec": {
   "display_name": "Python 3 (ipykernel)",
   "language": "python",
   "name": "python3"
  },
  "language_info": {
   "codemirror_mode": {
    "name": "ipython",
    "version": 3
   },
   "file_extension": ".py",
   "mimetype": "text/x-python",
   "name": "python",
   "nbconvert_exporter": "python",
   "pygments_lexer": "ipython3",
   "version": "3.10.10"
  }
 },
 "nbformat": 4,
 "nbformat_minor": 5
}
