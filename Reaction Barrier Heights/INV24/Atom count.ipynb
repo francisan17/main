{
 "cells": [
  {
   "cell_type": "code",
   "execution_count": null,
   "id": "32855758-1dec-4d63-bda3-31302f086928",
   "metadata": {},
   "outputs": [],
   "source": []
  },
  {
   "cell_type": "code",
   "execution_count": 3,
   "id": "427091a3-f23f-4daa-a830-0f8fdc7f051c",
   "metadata": {},
   "outputs": [
    {
     "ename": "KeyError",
     "evalue": "'c2h5'",
     "output_type": "error",
     "traceback": [
      "\u001b[0;31m---------------------------------------------------------------------------\u001b[0m",
      "\u001b[0;31mKeyError\u001b[0m                                  Traceback (most recent call last)",
      "Cell \u001b[0;32mIn [3], line 14\u001b[0m\n\u001b[1;32m     12\u001b[0m   max_atoms[k]\u001b[38;5;241m=\u001b[39m\u001b[38;5;241m0\u001b[39m\n\u001b[1;32m     13\u001b[0m   \u001b[38;5;28;01mfor\u001b[39;00m mk \u001b[38;5;129;01min\u001b[39;00m v[\u001b[38;5;124m'\u001b[39m\u001b[38;5;124mstoichiometry\u001b[39m\u001b[38;5;124m'\u001b[39m]:\n\u001b[0;32m---> 14\u001b[0m     max_atoms[k]\u001b[38;5;241m=\u001b[39m\u001b[38;5;28mmax\u001b[39m(max_atoms[k],count_atoms(\u001b[43mdb\u001b[49m\u001b[38;5;241;43m.\u001b[39;49m\u001b[43mmolecules\u001b[49m\u001b[43m[\u001b[49m\u001b[43mmk\u001b[49m\u001b[43m]\u001b[49m[\u001b[38;5;124m'\u001b[39m\u001b[38;5;124mgeometry\u001b[39m\u001b[38;5;124m'\u001b[39m]))\n\u001b[1;32m     15\u001b[0m \u001b[38;5;28mprint\u001b[39m(max_atoms)\n",
      "\u001b[0;31mKeyError\u001b[0m: 'c2h5'"
     ]
    }
   ],
   "source": [
    "db=pymolpro.database.load('GMTKN55_BH76')\n",
    "\n",
    "def count_atoms(geom):\n",
    "    lines=geom.replace(';','\\n').strip().split('\\n')\n",
    "    try:\n",
    "        return len(lines)-2 if (int(lines[0]) == len(lines)-2) else len(lines)\n",
    "    except:\n",
    "        return len(lines)\n",
    "    \n",
    "max_atoms={}\n",
    "for k,v in db.reactions.items():\n",
    "  max_atoms[k]=0\n",
    "  for mk in v['stoichiometry']:\n",
    "    max_atoms[k]=max(max_atoms[k],count_atoms(db.molecules[mk]['geometry']))\n",
    "print(max_atoms)"
   ]
  },
  {
   "cell_type": "code",
   "execution_count": null,
   "id": "f2fbd941-fcc5-469d-a963-9717a3851212",
   "metadata": {},
   "outputs": [],
   "source": []
  }
 ],
 "metadata": {
  "kernelspec": {
   "display_name": "Python [conda env:persistent] *",
   "language": "python",
   "name": "conda-env-persistent-py"
  },
  "language_info": {
   "codemirror_mode": {
    "name": "ipython",
    "version": 3
   },
   "file_extension": ".py",
   "mimetype": "text/x-python",
   "name": "python",
   "nbconvert_exporter": "python",
   "pygments_lexer": "ipython3",
   "version": "3.10.6"
  }
 },
 "nbformat": 4,
 "nbformat_minor": 5
}
