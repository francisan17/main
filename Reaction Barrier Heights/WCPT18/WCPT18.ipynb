{
 "cells": [
  {
   "cell_type": "code",
   "execution_count": null,
   "id": "70b4ee67-7922-4cc8-9928-65d1a5df85fa",
   "metadata": {},
   "outputs": [],
   "source": [
    "!mamba upgrade -y pymolpro"
   ]
  },
  {
   "cell_type": "code",
   "execution_count": 94,
   "id": "9ff0dc04-3d3d-4f39-9ca6-61dcea10363a",
   "metadata": {},
   "outputs": [],
   "source": [
    "import pymolpro\n",
    "import pandas as pd"
   ]
  },
  {
   "cell_type": "code",
   "execution_count": 95,
   "id": "8c664f3b-8cbe-4b53-b026-c4fd388d8f64",
   "metadata": {},
   "outputs": [],
   "source": [
    "backend = 'local' \n",
    "project_name = 'WCPT18_methodtest'\n",
    "parallel = 8"
   ]
  },
  {
   "cell_type": "code",
   "execution_count": 96,
   "id": "2a0711a2-9721-42b4-8052-61b674ee754a",
   "metadata": {},
   "outputs": [],
   "source": [
    "methods = {\"HF\": \"hf\",\n",
    "\"MP2\": \"mp2\",\n",
    "\"MP3\": \"mp3\",\n",
    "\"MP4\": \"mp4\",\n",
    "\"PAPT2\":\"PAPT;MP2\",\n",
    "\"PAPT3\":\"PAPT;MP3\",\n",
    "\"PAPT4\":\"PAPT;MP4\",\n",
    "\"CCSD\":\"CCSD\",\n",
    "\"CCSD(T)\":\"CCSD(T)\" }\n",
    "bases = ['cc-pVDZ','cc-pVTZ']"
   ]
  },
  {
   "cell_type": "code",
   "execution_count": 97,
   "id": "5db52bea-7126-4bea-83ff-65ac05451316",
   "metadata": {},
   "outputs": [],
   "source": [
    "db = pymolpro.database.load(\"GMTKN55_WCPT18\")"
   ]
  },
  {
   "cell_type": "code",
   "execution_count": 98,
   "id": "a58cdb14-9de8-4ef8-bb23-b6c820cfdbc8",
   "metadata": {},
   "outputs": [
    {
     "name": "stdout",
     "output_type": "stream",
     "text": [
      "GMTKN55 WCPT18 (closed shell only) (maximum number of electrons 30):\n",
      "\n",
      "Molecules:\n",
      "ts5: {'geometry': '8\\n \\n C -0.077016 0.551986 0.027408\\n H -0.238295 1.625354 0.118269\\n C 1.139606 -0.193208 -0.031496\\n H 1.355044 -0.698094 0.908034\\n H -0.073907 -1.134900 -0.245811\\n H 2.028949 0.223228 -0.494171\\n N -1.065094 -0.300004 -0.078808\\n H -1.991673 -0.068229 0.289860\\n', 'description': 'ts5'}\n",
      "ts2: {'geometry': '6\\n \\n C 0.000000 0.509558 0.000000\\n H 0.037758 1.595479 0.000000\\n O -1.099586 -0.147769 0.000000\\n H 1.969129 -0.087220 0.000000\\n H -0.131827 -1.064473 0.000000\\n N 0.988804 -0.331283 0.000000\\n', 'description': 'ts2'}\n",
      "ts3: {'geometry': '7\\n \\n C -0.110274 0.529476 0.046417\\n H -0.295808 1.601222 0.124294\\n O -1.106394 -0.268578 -0.020297\\n C 1.104116 -0.175658 -0.047198\\n H 1.271359 -0.824225 0.811942\\n H -0.098402 -1.028334 -0.338969\\n H 2.01095         0.277049 -0.430205\\n', 'description': 'ts3'}\n",
      "ts4: {'geometry': '7\\n \\n C 0.000000 0.000000 0.523306\\n H 0.000000 0.000000 1.609625\\n N 0.000000 1.054818 -0.264887\\n H -0.314690 1.964618 0.041770\\n H 0.000000 0.000000 -1.124591\\n N 0.000000 -1.054818 -0.264887\\n H 0.314690 -1.964618 0.041770\\n', 'description': 'ts4'}\n",
      "reac2: {'geometry': '6\\n \\n C 0.000000 0.416575 0.000000\\n H -0.263416 1.473336 0.000000\\n O -1.110471 -0.343273 0.000000\\n H 1.876501 0.630870 0.000000\\n H -0.825348 -1.269969 0.000000\\n N 1.156576 -0.083929 0.000000\\n', 'description': 'reac2'}\n",
      "reac5: {'geometry': '8\\n \\n C -0.069675 0.426757 -0.000517\\n H -0.029832 1.509908 -0.008099\\n C -1.249182 -0.196033 0.013868\\n H -1.330339 -1.275694 0.016609\\n H -2.164964 0.373561 0.006734\\n H 1.220598 -1.153069 0.137248\\n N 1.181782 -0.169417 -0.079545\\n H 1.945210 0.346868 0.324216\\n', 'description': 'reac5'}\n",
      "reac4: {'geometry': '7\\n \\n C -0.122877 0.390310 -0.000787\\n H -0.118122 1.483913 -0.004726\\n N -1.171301 -0.329866 0.010781\\n H -2.008655 0.241760 0.002981\\n H 1.213885 -1.140955 0.095493\\n N 1.132820 -0.147882 -0.053220\\n H 1.919523 0.417657 0.208046\\n', 'description': 'reac4'}\n",
      "reac3: {'geometry': '7\\n \\n C 0.000000 0.441567 0.000000\\n H -0.160761 1.511265 0.000000\\n O -1.190786 -0.218672 0.000000\\n C 1.211912 -0.100389 0.000000\\n H 1.366272 -1.172267 0.000000\\n H 2.084631 0.533570 0.000000\\n H -1.035326 -1.170266 0.000000\\n', 'description': 'reac3'}\n",
      "ts1: {'geometry': '5\\n \\n C 0.000000 0.000000 0.489758\\n H 0.000000 0.000000 1.576776\\n H 0.000000 0.000000 -1.018930\\n O 0.000000 1.047477 -0.218525\\n O 0.000000 -1.047477 -0.218525\\n', 'description': 'ts1'}\n",
      "ts6: {'geometry': '9\\n \\n C 0.057227 -0.404548 0.000000\\n H 0.094881 -1.490374 0.000000\\n C 0.057227 0.193471 1.290465\\n H 0.016071 1.265997 1.410672\\n H -1.068272 -0.071437 0.000000\\n H -0.044418 -0.432272 2.160920\\n C 0.057227 0.193471 -1.290465\\n H -0.044418 -0.432272 -2.160920\\n H 0.016071 1.265997 -1.410672\\n', 'description': 'ts6'}\n",
      "reac6: {'geometry': '9\\n \\n C 0.000000 0.471708 0.000000\\n H -0.276412 1.522311 0.000000\\n C -1.134329 -0.504429 0.000000\\n H -0.776700 -1.534190 0.000000\\n H -1.772470 -0.363824 0.876336\\n H -1.772470 -0.363824 -0.876336\\n C 1.287947 0.151466 0.000000\\n H 2.060505 0.908567 0.000000\\n H 1.615839 -0.881516 0.000000\\n', 'description': 'reac6'}\n",
      "reac1: {'geometry': '5\\n \\n C 0.000000 0.421035 0.000000\\n H -0.383063 1.448042 0.000000\\n H -0.659556 -1.343644 0.000000\\n O 1.158518 0.117088 0.000000\\n O -1.028191 -0.445914 0.000000\\n', 'description': 'reac1'}\n",
      "\n",
      "Reactions:\n",
      "1: reac1 -> ts1, energy = 0.0585807889344\n",
      "2: reac2 -> ts2, energy = 0.057704308142400004\n",
      "3: reac3 -> ts3, energy = 0.097130007768\n",
      "4: reac4 -> ts4, energy = 0.0757279404288\n",
      "5: reac5 -> ts5, energy = 0.10466774257920002\n",
      "6: reac6 -> ts6, energy = 0.1294641809856\n",
      "\n",
      "\n"
     ]
    }
   ],
   "source": [
    "small=db.subset(open_shell=False,max_electrons=30)\n",
    "print(small)"
   ]
  },
  {
   "cell_type": "code",
   "execution_count": 99,
   "id": "f1829671-6488-426f-8e59-0854283b6333",
   "metadata": {},
   "outputs": [
    {
     "name": "stdout",
     "output_type": "stream",
     "text": [
      "{'HF': {'cc-pVDZ': <pymolpro.database.Database object at 0x7f089f8fe3e0>, 'cc-pVTZ': <pymolpro.database.Database object at 0x7f090ff09030>}, 'MP2': {'cc-pVDZ': <pymolpro.database.Database object at 0x7f089fae0fd0>, 'cc-pVTZ': <pymolpro.database.Database object at 0x7f089fae0160>}, 'MP3': {'cc-pVDZ': <pymolpro.database.Database object at 0x7f089fae25c0>, 'cc-pVTZ': <pymolpro.database.Database object at 0x7f089fae0af0>}, 'MP4': {'cc-pVDZ': <pymolpro.database.Database object at 0x7f089fae2110>, 'cc-pVTZ': <pymolpro.database.Database object at 0x7f089fae1f60>}, 'PAPT2': {'cc-pVDZ': <pymolpro.database.Database object at 0x7f089fae3c10>, 'cc-pVTZ': <pymolpro.database.Database object at 0x7f08daa4b5b0>}, 'PAPT3': {'cc-pVDZ': <pymolpro.database.Database object at 0x7f08daa48b20>, 'cc-pVTZ': <pymolpro.database.Database object at 0x7f08daa484f0>}, 'PAPT4': {'cc-pVDZ': <pymolpro.database.Database object at 0x7f08daa48bb0>, 'cc-pVTZ': <pymolpro.database.Database object at 0x7f08daa4b9a0>}, 'CCSD': {'cc-pVDZ': <pymolpro.database.Database object at 0x7f08daa4a9e0>, 'cc-pVTZ': <pymolpro.database.Database object at 0x7f08daa4b4f0>}, 'CCSD(T)': {'cc-pVDZ': <pymolpro.database.Database object at 0x7f089facb310>, 'cc-pVTZ': <pymolpro.database.Database object at 0x7f089facb2b0>}}\n"
     ]
    }
   ],
   "source": [
    "results = {}\n",
    "for method in methods:\n",
    "    results[method] = {}\n",
    "    for basis in bases:\n",
    "        results[method][basis] = pymolpro.database.run(small, methods[method], basis, location=project_name,\n",
    "                                                       preamble= 'angstrom' ,backend=backend ,parallel=parallel)\n",
    "        if results[method][basis].failed: print(method, basis, 'failed', results[method][basis].project_directory)\n",
    "        \n",
    "print(results)    "
   ]
  },
  {
   "cell_type": "code",
   "execution_count": 100,
   "id": "e7db0ff6-7718-4ed5-b5f4-821f869cc431",
   "metadata": {},
   "outputs": [
    {
     "name": "stdout",
     "output_type": "stream",
     "text": [
      "{'HF': <pymolpro.database.Database object at 0x7f089f8fe860>, 'MP2': <pymolpro.database.Database object at 0x7f089f8fc9a0>, 'MP3': <pymolpro.database.Database object at 0x7f089f8fdff0>, 'MP4': <pymolpro.database.Database object at 0x7f089f8fd900>, 'PAPT2': <pymolpro.database.Database object at 0x7f089fae3190>, 'PAPT3': <pymolpro.database.Database object at 0x7f089fae36d0>, 'PAPT4': <pymolpro.database.Database object at 0x7f089faca920>, 'CCSD': <pymolpro.database.Database object at 0x7f089facbe50>, 'CCSD(T)': <pymolpro.database.Database object at 0x7f089facbdc0>}\n"
     ]
    }
   ],
   "source": [
    "extrapolate={}\n",
    "for method in  methods:\n",
    "        extrapolate[method]=pymolpro.database.basis_extrapolate                   (results[method].values(), results[\"HF\"].values())[0]\n",
    "print(extrapolate)"
   ]
  },
  {
   "cell_type": "code",
   "execution_count": 101,
   "id": "0f4a6cc4-6b09-4223-83d7-09e17c4be6b8",
   "metadata": {},
   "outputs": [
    {
     "data": {
      "text/html": [
       "<div>\n",
       "<style scoped>\n",
       "    .dataframe tbody tr th:only-of-type {\n",
       "        vertical-align: middle;\n",
       "    }\n",
       "\n",
       "    .dataframe tbody tr th {\n",
       "        vertical-align: top;\n",
       "    }\n",
       "\n",
       "    .dataframe thead th {\n",
       "        text-align: right;\n",
       "    }\n",
       "</style>\n",
       "<table border=\"1\" class=\"dataframe\">\n",
       "  <thead>\n",
       "    <tr style=\"text-align: right;\">\n",
       "      <th></th>\n",
       "      <th>HF/cc-pV[23]Z</th>\n",
       "      <th>MP2/cc-pV[23]Z</th>\n",
       "      <th>MP3/cc-pV[23]Z</th>\n",
       "      <th>MP4/cc-pV[23]Z</th>\n",
       "      <th>PAPT;MP2/cc-pV[23]Z</th>\n",
       "      <th>PAPT;MP3/cc-pV[23]Z</th>\n",
       "      <th>PAPT;MP4/cc-pV[23]Z</th>\n",
       "      <th>CCSD/cc-pV[23]Z</th>\n",
       "      <th>CCSD(T)/cc-pV[23]Z</th>\n",
       "    </tr>\n",
       "  </thead>\n",
       "  <tbody>\n",
       "    <tr>\n",
       "      <th>MAD</th>\n",
       "      <td>65.50</td>\n",
       "      <td>7.83</td>\n",
       "      <td>17.51</td>\n",
       "      <td>6.66</td>\n",
       "      <td>15.74</td>\n",
       "      <td>15.67</td>\n",
       "      <td>1.13</td>\n",
       "      <td>14.85</td>\n",
       "      <td>0.00</td>\n",
       "    </tr>\n",
       "    <tr>\n",
       "      <th>MAXD</th>\n",
       "      <td>98.80</td>\n",
       "      <td>10.29</td>\n",
       "      <td>21.04</td>\n",
       "      <td>9.55</td>\n",
       "      <td>21.51</td>\n",
       "      <td>20.93</td>\n",
       "      <td>1.97</td>\n",
       "      <td>24.70</td>\n",
       "      <td>0.00</td>\n",
       "    </tr>\n",
       "    <tr>\n",
       "      <th>RMSD</th>\n",
       "      <td>67.24</td>\n",
       "      <td>8.07</td>\n",
       "      <td>17.65</td>\n",
       "      <td>6.94</td>\n",
       "      <td>15.97</td>\n",
       "      <td>15.88</td>\n",
       "      <td>1.31</td>\n",
       "      <td>15.51</td>\n",
       "      <td>0.00</td>\n",
       "    </tr>\n",
       "    <tr>\n",
       "      <th>MSD</th>\n",
       "      <td>65.50</td>\n",
       "      <td>-7.83</td>\n",
       "      <td>17.51</td>\n",
       "      <td>-6.66</td>\n",
       "      <td>15.74</td>\n",
       "      <td>15.67</td>\n",
       "      <td>0.96</td>\n",
       "      <td>14.85</td>\n",
       "      <td>0.00</td>\n",
       "    </tr>\n",
       "    <tr>\n",
       "      <th>STDEVD</th>\n",
       "      <td>16.62</td>\n",
       "      <td>2.14</td>\n",
       "      <td>2.42</td>\n",
       "      <td>2.15</td>\n",
       "      <td>2.98</td>\n",
       "      <td>2.77</td>\n",
       "      <td>0.97</td>\n",
       "      <td>4.89</td>\n",
       "      <td>0.00</td>\n",
       "    </tr>\n",
       "  </tbody>\n",
       "</table>\n",
       "</div>"
      ],
      "text/plain": [
       "        HF/cc-pV[23]Z  MP2/cc-pV[23]Z  MP3/cc-pV[23]Z  MP4/cc-pV[23]Z   \n",
       "MAD             65.50            7.83           17.51            6.66  \\\n",
       "MAXD            98.80           10.29           21.04            9.55   \n",
       "RMSD            67.24            8.07           17.65            6.94   \n",
       "MSD             65.50           -7.83           17.51           -6.66   \n",
       "STDEVD          16.62            2.14            2.42            2.15   \n",
       "\n",
       "        PAPT;MP2/cc-pV[23]Z  PAPT;MP3/cc-pV[23]Z  PAPT;MP4/cc-pV[23]Z   \n",
       "MAD                   15.74                15.67                 1.13  \\\n",
       "MAXD                  21.51                20.93                 1.97   \n",
       "RMSD                  15.97                15.88                 1.31   \n",
       "MSD                   15.74                15.67                 0.96   \n",
       "STDEVD                 2.98                 2.77                 0.97   \n",
       "\n",
       "        CCSD/cc-pV[23]Z  CCSD(T)/cc-pV[23]Z  \n",
       "MAD               14.85                0.00  \n",
       "MAXD              24.70                0.00  \n",
       "RMSD              15.51                0.00  \n",
       "MSD               14.85                0.00  \n",
       "STDEVD             4.89                0.00  "
      ]
     },
     "execution_count": 101,
     "metadata": {},
     "output_type": "execute_result"
    }
   ],
   "source": [
    "results_with_extrapolation = results\n",
    "for method in results_with_extrapolation.keys():\n",
    "    results_with_extrapolation[method]['cc-pV[23]Z'] = extrapolate[method]\n",
    "results_with_extrapolation\n",
    "results = results_with_extrapolation\n",
    "\n",
    "pd.options.display.float_format = '{:,.2f}'.format\n",
    "analyse=pymolpro.database.analyse([result['cc-pV[23]Z'] for result in results.values()],results['CCSD(T)']['cc-pV[23]Z'],unit='kJ/mol')\n",
    "analyse['reaction statistics']"
   ]
  },
  {
   "cell_type": "code",
   "execution_count": 102,
   "id": "df61126d-d853-43c4-84e0-3c29a7d06951",
   "metadata": {},
   "outputs": [
    {
     "data": {
      "image/png": "[encoded data removed]",
      "text/plain": [
       "<Figure size 1800x600 with 2 Axes>"
      ]
     },
     "metadata": {},
     "output_type": "display_data"
    }
   ],
   "source": [
    "import matplotlib.pyplot as plt\n",
    "\n",
    "methods_pruned = [method for method in methods if (method != 'HF') and (method != 'CCSD(T)')]\n",
    "bases_pruned = ['cc-pV[23]Z', 'cc-pVTZ']\n",
    "fig, panes = plt.subplots(nrows=1, ncols=len(bases_pruned), sharey=True, figsize=(18, 6))\n",
    "\n",
    "for pane in range(len(bases_pruned)):\n",
    "    data = []\n",
    "    for method in methods_pruned:\n",
    "        data.append(\n",
    "            pymolpro.database.analyse(results[method][bases_pruned[pane]],\n",
    "                                      results['CCSD(T)']['cc-pV[23]Z'],'kJ/mol')['reaction energy deviations'].to_numpy()[:, 0]\n",
    "        )\n",
    "    panes[pane].violinplot(data, showmeans=True, showextrema=True, vert=True, bw_method='silverman')\n",
    "    panes[pane].set_xticks(range(1, len(methods_pruned) + 1), labels=methods_pruned, rotation=-90)\n",
    "    panes[pane].set_title(bases_pruned[pane])\n",
    "panes[0].set_ylabel('Error / kJ/mol')\n",
    "plt.savefig(project_name + \".violin.pdf\")\n",
    "df = pd.DataFrame(data)\n",
    "df.to_excel(\"PAPT.xlsx\")\n"
   ]
  },
  {
   "cell_type": "code",
   "execution_count": null,
   "id": "90970036-46bf-4b63-b297-3a0671969b6e",
   "metadata": {},
   "outputs": [],
   "source": []
  }
 ],
 "metadata": {
  "kernelspec": {
   "display_name": "Python [conda env:persistent] *",
   "language": "python",
   "name": "conda-env-persistent-py"
  },
  "language_info": {
   "codemirror_mode": {
    "name": "ipython",
    "version": 3
   },
   "file_extension": ".py",
   "mimetype": "text/x-python",
   "name": "python",
   "nbconvert_exporter": "python",
   "pygments_lexer": "ipython3",
   "version": "3.10.10"
  }
 },
 "nbformat": 4,
 "nbformat_minor": 5
}
