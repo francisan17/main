{
 "cells": [
  {
   "cell_type": "code",
   "execution_count": 59,
   "id": "52523e2a-5114-4afd-ab7c-7c71e73c3ded",
   "metadata": {},
   "outputs": [],
   "source": [
    "import pymolpro\n",
    "import pandas as pd"
   ]
  },
  {
   "cell_type": "code",
   "execution_count": 60,
   "id": "1335753c-8ba3-4c4c-be16-2fe626102890",
   "metadata": {},
   "outputs": [
    {
     "name": "stdout",
     "output_type": "stream",
     "text": [
      "The history saving thread hit an unexpected error (OperationalError('database is locked')).History will not be written to the database.\n"
     ]
    }
   ],
   "source": [
    "backend = 'local' \n",
    "project_name = 'BHDIV10_methodtest2'\n",
    "parallel = 8"
   ]
  },
  {
   "cell_type": "code",
   "execution_count": 61,
   "id": "e6920658-2ea5-4047-b8c2-0bb7217c8bfc",
   "metadata": {},
   "outputs": [],
   "source": [
    "methods = {\"HF\": \"hf\",\n",
    "\"MP2\": \"mp2\",\n",
    "\"MP3\": \"mp3\",\n",
    "\"MP4\": \"mp4\",\n",
    "\"PAPT2\":\"PAPT;MP2\",\n",
    "\"PAPT3\":\"PAPT;MP3\",\n",
    "\"PAPT4\":\"PAPT;MP4\",\n",
    "\"CCSD\":\"CCSD\",\n",
    "\"CCSD(T)\":\"CCSD(T)\" }\n",
    "bases = ['cc-pVDZ','cc-pVTZ']"
   ]
  },
  {
   "cell_type": "code",
   "execution_count": 62,
   "id": "1d079691-3970-47fe-90a6-85be0c12fdc8",
   "metadata": {},
   "outputs": [],
   "source": [
    "db = pymolpro.database.load(\"GMTKN55_BHDIV10\")"
   ]
  },
  {
   "cell_type": "code",
   "execution_count": 63,
   "id": "15ae8ce9-7011-4500-b7a8-4ecd468411f5",
   "metadata": {},
   "outputs": [
    {
     "name": "stdout",
     "output_type": "stream",
     "text": [
      "GMTKN55 BHDIV10 (closed shell only) (maximum number of electrons 30):\n",
      "\n",
      "Molecules:\n",
      "ts5: {'geometry': '10\\n  \\n B     0.0000000    0.0000000   -2.3759884 \\n H     0.5905364    1.0228391   -2.5936411 \\n H     0.5905364   -1.0228391   -2.5936411 \\n H    -1.1810728    0.0000000   -2.5936411 \\n P    -0.0000000    0.0000000    1.7684168 \\n H     0.6165007    1.0678105    2.4225352 \\n H     0.6165007   -1.0678105    2.4225352 \\n H    -1.2330014    0.0000000    2.4225352 \\n H     0.0000000    0.0000000   -1.0070281 \\n H    -0.0000000    0.0000000   -0.1475438 \\n', 'description': 'ts5'}\n",
      "ts4: {'geometry': '11\\n  \\n C    -0.2859289    0.9184703    1.0736652 \\n C    -0.4034021   -0.6529505   -0.3445861 \\n C     0.7266145   -0.7363334   -1.2029949 \\n H    -0.1370899    1.9111760    0.6466858 \\n H     0.4520114    0.7052124    1.8459804 \\n H     0.4779536    0.2142783   -0.1301686 \\n H    -1.2954707    0.8256305    1.4690274 \\n H    -1.3320510   -0.2613236   -0.7376201 \\n H    -0.5171754   -1.3832741    0.4455098 \\n H     0.7429527   -0.1922166   -2.1336196 \\n H     1.5715858   -1.3486694   -0.9318795 \\n', 'description': 'ts4'}\n",
      "ed4: {'geometry': '11\\n  \\n C    -0.2692331    1.5323856    1.6480625 \\n C    -0.3350059   -1.3093287   -1.0219199 \\n C     0.7843782   -1.2453943   -1.7259045 \\n H    -0.2270821    2.5841057    1.3754968 \\n H     0.3752031    1.3551361    2.5057916 \\n H     0.0655748    0.9253778    0.8098806 \\n H    -1.2922149    1.2660609    1.9032646 \\n H    -1.2276984   -0.7725013   -1.3185237 \\n H    -0.4079332   -1.9000042   -0.1170863 \\n H     0.8570528   -0.6540376   -2.6302551 \\n H     1.6769587   -1.7817999   -1.4288065 \\n', 'description': 'ed4'}\n",
      "ed5: {'geometry': '10\\n  \\n B     0.0000000    0.0000000   -3.0934966 \\n H     0.5950210    1.0306066   -3.1108480 \\n H     0.5950210   -1.0306066   -3.1108480 \\n H    -1.1900420    0.0000000   -3.1108480 \\n P     0.0000000    0.0000000    2.8489335 \\n H     0.5938246    1.0285344    3.6029291 \\n H     0.5938246   -1.0285344    3.6029291 \\n H    -1.1876492    0.0000000    3.6029291 \\n H     0.0000000    0.0000000   -0.9896633 \\n H     0.0000000    0.0000000   -0.2420169 \\n', 'description': 'ed5'}\n",
      "ed10: {'geometry': '6\\n  \\n C    -0.0000000    0.0000000   -0.4861410 \\n C     0.0000000    0.0000000    0.9653746 \\n N     0.0000000    0.0000000    2.1145426 \\n H    -0.5102145    0.8837175   -0.8645921 \\n H    -0.5102145   -0.8837175   -0.8645921 \\n H     1.0204291    0.0000000   -0.8645921 \\n', 'description': 'ed10'}\n",
      "ts10: {'geometry': '6\\n  \\n C    -0.3457134   -0.1728909    0.0000000 \\n C     1.3843767   -0.0520074    0.0000000 \\n N     0.9800815    1.0640658    0.0000000 \\n H    -1.0272588    0.6727741    0.0000000 \\n H    -0.4957430   -0.7559709    0.9004849 \\n H    -0.4957430   -0.7559709   -0.9004849 \\n', 'description': 'ts10'}\n",
      "\n",
      "Reactions:\n",
      "4: ed4 -> ts4, energy = 0.1532566504848\n",
      "5: ed5 -> ts5, energy = 0.0254020069536\n",
      "10: ed10 -> ts10, energy = 0.10347254149920002\n",
      "\n",
      "\n"
     ]
    }
   ],
   "source": [
    "small=db.subset(open_shell=False,max_electrons=30)\n",
    "print(small)"
   ]
  },
  {
   "cell_type": "code",
   "execution_count": 64,
   "id": "8b9e674b-1f0c-4797-8388-fb527bd2c995",
   "metadata": {},
   "outputs": [
    {
     "name": "stdout",
     "output_type": "stream",
     "text": [
      "{'HF': {'cc-pVDZ': <pymolpro.database.Database object at 0x7f2f9dee77f0>, 'cc-pVTZ': <pymolpro.database.Database object at 0x7f302c61bd90>}, 'MP2': {'cc-pVDZ': <pymolpro.database.Database object at 0x7f2f9dee6ec0>, 'cc-pVTZ': <pymolpro.database.Database object at 0x7f304c654280>}, 'MP3': {'cc-pVDZ': <pymolpro.database.Database object at 0x7f304c654b80>, 'cc-pVTZ': <pymolpro.database.Database object at 0x7f2f9e5e03d0>}, 'MP4': {'cc-pVDZ': <pymolpro.database.Database object at 0x7f2f9c4b7970>, 'cc-pVTZ': <pymolpro.database.Database object at 0x7f2f9dee7f70>}, 'PAPT2': {'cc-pVDZ': <pymolpro.database.Database object at 0x7f2f9dee6590>, 'cc-pVTZ': <pymolpro.database.Database object at 0x7f2f9dad8ca0>}, 'PAPT3': {'cc-pVDZ': <pymolpro.database.Database object at 0x7f302d132e90>, 'cc-pVTZ': <pymolpro.database.Database object at 0x7f2f9da770a0>}, 'PAPT4': {'cc-pVDZ': <pymolpro.database.Database object at 0x7f302d311b70>, 'cc-pVTZ': <pymolpro.database.Database object at 0x7f2f9e8eb7f0>}, 'CCSD': {'cc-pVDZ': <pymolpro.database.Database object at 0x7f2f9e8e9840>, 'cc-pVTZ': <pymolpro.database.Database object at 0x7f2f9e246b30>}, 'CCSD(T)': {'cc-pVDZ': <pymolpro.database.Database object at 0x7f2f9e247670>, 'cc-pVTZ': <pymolpro.database.Database object at 0x7f2f9e244df0>}}\n"
     ]
    }
   ],
   "source": [
    "results = {}\n",
    "for method in methods:\n",
    "    results[method] = {}\n",
    "    for basis in bases:\n",
    "        results[method][basis] = pymolpro.database.run(small, methods[method], basis, location=project_name,\n",
    "                                                       backend=backend,\n",
    "                                                       preamble=\"core,small\", parallel=parallel)\n",
    "        if results[method][basis].failed: print(method, basis, 'failed', results[method][basis].project_directory)\n",
    "        \n",
    "print(results)       "
   ]
  },
  {
   "cell_type": "code",
   "execution_count": 65,
   "id": "24382018-4810-4188-aee1-0b23c2bd79f2",
   "metadata": {},
   "outputs": [
    {
     "data": {
      "text/html": [
       "<div>\n",
       "<style scoped>\n",
       "    .dataframe tbody tr th:only-of-type {\n",
       "        vertical-align: middle;\n",
       "    }\n",
       "\n",
       "    .dataframe tbody tr th {\n",
       "        vertical-align: top;\n",
       "    }\n",
       "\n",
       "    .dataframe thead th {\n",
       "        text-align: right;\n",
       "    }\n",
       "</style>\n",
       "<table border=\"1\" class=\"dataframe\">\n",
       "  <thead>\n",
       "    <tr style=\"text-align: right;\">\n",
       "      <th></th>\n",
       "      <th>HF/cc-pVTZ</th>\n",
       "      <th>MP2/cc-pVTZ</th>\n",
       "      <th>MP3/cc-pVTZ</th>\n",
       "      <th>MP4/cc-pVTZ</th>\n",
       "      <th>PAPT;MP2/cc-pVTZ</th>\n",
       "      <th>PAPT;MP3/cc-pVTZ</th>\n",
       "      <th>PAPT;MP4/cc-pVTZ</th>\n",
       "      <th>CCSD/cc-pVTZ</th>\n",
       "      <th>CCSD(T)/cc-pVTZ</th>\n",
       "    </tr>\n",
       "  </thead>\n",
       "  <tbody>\n",
       "    <tr>\n",
       "      <th>MAD</th>\n",
       "      <td>0.019471</td>\n",
       "      <td>0.004558</td>\n",
       "      <td>0.003433</td>\n",
       "      <td>0.002391</td>\n",
       "      <td>0.003533</td>\n",
       "      <td>0.003664</td>\n",
       "      <td>0.001654</td>\n",
       "      <td>0.004123</td>\n",
       "      <td>0.001688</td>\n",
       "    </tr>\n",
       "    <tr>\n",
       "      <th>MAXD</th>\n",
       "      <td>0.036320</td>\n",
       "      <td>0.007710</td>\n",
       "      <td>0.005642</td>\n",
       "      <td>0.003798</td>\n",
       "      <td>0.007188</td>\n",
       "      <td>0.007417</td>\n",
       "      <td>0.002744</td>\n",
       "      <td>0.007807</td>\n",
       "      <td>0.002024</td>\n",
       "    </tr>\n",
       "    <tr>\n",
       "      <th>RMSD</th>\n",
       "      <td>0.024249</td>\n",
       "      <td>0.005081</td>\n",
       "      <td>0.003865</td>\n",
       "      <td>0.002702</td>\n",
       "      <td>0.004506</td>\n",
       "      <td>0.004618</td>\n",
       "      <td>0.001896</td>\n",
       "      <td>0.005001</td>\n",
       "      <td>0.001744</td>\n",
       "    </tr>\n",
       "    <tr>\n",
       "      <th>MSD</th>\n",
       "      <td>0.018789</td>\n",
       "      <td>0.000582</td>\n",
       "      <td>0.002568</td>\n",
       "      <td>0.000141</td>\n",
       "      <td>0.003533</td>\n",
       "      <td>0.003664</td>\n",
       "      <td>-0.000176</td>\n",
       "      <td>0.004123</td>\n",
       "      <td>0.000339</td>\n",
       "    </tr>\n",
       "    <tr>\n",
       "      <th>STDEVD</th>\n",
       "      <td>0.018776</td>\n",
       "      <td>0.006182</td>\n",
       "      <td>0.003537</td>\n",
       "      <td>0.003305</td>\n",
       "      <td>0.003426</td>\n",
       "      <td>0.003443</td>\n",
       "      <td>0.002312</td>\n",
       "      <td>0.003467</td>\n",
       "      <td>0.002096</td>\n",
       "    </tr>\n",
       "  </tbody>\n",
       "</table>\n",
       "</div>"
      ],
      "text/plain": [
       "        HF/cc-pVTZ  MP2/cc-pVTZ  MP3/cc-pVTZ  MP4/cc-pVTZ  PAPT;MP2/cc-pVTZ   \n",
       "MAD       0.019471     0.004558     0.003433     0.002391          0.003533  \\\n",
       "MAXD      0.036320     0.007710     0.005642     0.003798          0.007188   \n",
       "RMSD      0.024249     0.005081     0.003865     0.002702          0.004506   \n",
       "MSD       0.018789     0.000582     0.002568     0.000141          0.003533   \n",
       "STDEVD    0.018776     0.006182     0.003537     0.003305          0.003426   \n",
       "\n",
       "        PAPT;MP3/cc-pVTZ  PAPT;MP4/cc-pVTZ  CCSD/cc-pVTZ  CCSD(T)/cc-pVTZ  \n",
       "MAD             0.003664          0.001654      0.004123         0.001688  \n",
       "MAXD            0.007417          0.002744      0.007807         0.002024  \n",
       "RMSD            0.004618          0.001896      0.005001         0.001744  \n",
       "MSD             0.003664         -0.000176      0.004123         0.000339  \n",
       "STDEVD          0.003443          0.002312      0.003467         0.002096  "
      ]
     },
     "execution_count": 65,
     "metadata": {},
     "output_type": "execute_result"
    }
   ],
   "source": [
    "analyse=pymolpro.database.analyse([result['cc-pVTZ'] for result in results.values()],small)\n",
    "analyse['reaction statistics']"
   ]
  },
  {
   "cell_type": "code",
   "execution_count": 107,
   "id": "de5ce205-4a4f-4240-8cc3-cdc81425c50e",
   "metadata": {},
   "outputs": [
    {
     "data": {
      "image/png": "[encoded data removed]",
      "text/plain": [
       "<Figure size 1800x600 with 2 Axes>"
      ]
     },
     "metadata": {},
     "output_type": "display_data"
    }
   ],
   "source": [
    "import matplotlib.pyplot as plt\n",
    "\n",
    "methods_pruned = [method for method in methods if method != 'HF']\n",
    "bases_pruned = ['cc-pVTZ', 'cc-pVDZ']\n",
    "df = pd.DataFrame\n",
    "fig, panes = plt.subplots(nrows=1, ncols=len(bases_pruned), sharey=True, figsize=(18, 6))\n",
    "\n",
    "for pane in range(len(bases_pruned)):\n",
    "    data = []\n",
    "    for method in methods_pruned:\n",
    "        data.append(\n",
    "            pymolpro.database.analyse(results[method][bases_pruned[pane]], dataframe.drop(\n",
    "                                      results['CCSD(T)']['cc-pVTZ'],'kJ/mol')['reaction energy deviations'].to_numpy()[:, 0]\n",
    "            \n",
    "        )\n",
    "    panes[pane].violinplot(data, showmeans=True, showextrema=True, vert=True, bw_method='silverman')\n",
    "    panes[pane].set_xticks(range(1, len(methods_pruned)+ 1), labels=methods_pruned, rotation=-90)\n",
    "    panes[pane].set_title(bases_pruned[pane])\n",
    "panes[0].set_ylabel('Error / kJ/mol')\n",
    "plt.savefig(project_name + \".violin.pdf\")\n"
   ]
  },
  {
   "cell_type": "code",
   "execution_count": 3,
   "id": "6725f031-2fd6-4d85-a997-82b37ae89f17",
   "metadata": {},
   "outputs": [
    {
     "ename": "NameError",
     "evalue": "name 'pymolpro' is not defined",
     "output_type": "error",
     "traceback": [
      "\u001b[0;31m---------------------------------------------------------------------------\u001b[0m",
      "\u001b[0;31mNameError\u001b[0m                                 Traceback (most recent call last)",
      "Cell \u001b[0;32mIn [3], line 1\u001b[0m\n\u001b[0;32m----> 1\u001b[0m extrapolate\u001b[38;5;241m=\u001b[39m\u001b[43mpymolpro\u001b[49m\u001b[38;5;241m.\u001b[39mdatabase\u001b[38;5;241m.\u001b[39mbasis_extrapolate(results[method]\u001b[38;5;241m.\u001b[39mvalues(), results[\u001b[38;5;124m\"\u001b[39m\u001b[38;5;124mHF\u001b[39m\u001b[38;5;124m\"\u001b[39m]\u001b[38;5;241m.\u001b[39mvalues())\n",
      "\u001b[0;31mNameError\u001b[0m: name 'pymolpro' is not defined"
     ]
    }
   ],
   "source": [
    "extrapolate=pymolpro.database.basis_extrapolate(results[method].values(), results[\"HF\"].values())\n"
   ]
  },
  {
   "cell_type": "code",
   "execution_count": null,
   "id": "22807025-a2e5-4588-b138-e0accfe98cf2",
   "metadata": {},
   "outputs": [],
   "source": [
    "data[-1]"
   ]
  },
  {
   "cell_type": "code",
   "execution_count": 31,
   "id": "0b99d7b5-0e3e-48fc-ab13-bf07092e9673",
   "metadata": {
    "tags": []
   },
   "outputs": [
    {
     "data": {
      "text/html": [
       "<div>\n",
       "<style scoped>\n",
       "    .dataframe tbody tr th:only-of-type {\n",
       "        vertical-align: middle;\n",
       "    }\n",
       "\n",
       "    .dataframe tbody tr th {\n",
       "        vertical-align: top;\n",
       "    }\n",
       "\n",
       "    .dataframe thead th {\n",
       "        text-align: right;\n",
       "    }\n",
       "</style>\n",
       "<table border=\"1\" class=\"dataframe\">\n",
       "  <thead>\n",
       "    <tr style=\"text-align: right;\">\n",
       "      <th></th>\n",
       "      <th>PAPT;MP2/cc-pVTZ</th>\n",
       "    </tr>\n",
       "  </thead>\n",
       "  <tbody>\n",
       "    <tr>\n",
       "      <th>4</th>\n",
       "      <td>16.074325</td>\n",
       "    </tr>\n",
       "    <tr>\n",
       "      <th>5</th>\n",
       "      <td>6.365416</td>\n",
       "    </tr>\n",
       "    <tr>\n",
       "      <th>10</th>\n",
       "      <td>2.733909</td>\n",
       "    </tr>\n",
       "  </tbody>\n",
       "</table>\n",
       "</div>"
      ],
      "text/plain": [
       "    PAPT;MP2/cc-pVTZ\n",
       "4          16.074325\n",
       "5           6.365416\n",
       "10          2.733909"
      ]
     },
     "execution_count": 31,
     "metadata": {},
     "output_type": "execute_result"
    }
   ],
   "source": [
    "error_table=pymolpro.database.analyse(results['PAPT;MP2']['cc-pVTZ'],results['CCSD(T)']['cc-pVTZ'],'kJ/mol')['reaction energy deviations']\n",
    "error_table"
   ]
  },
  {
   "cell_type": "code",
   "execution_count": 37,
   "id": "145f80fd-308f-406c-9704-d9ebd5c385ef",
   "metadata": {
    "tags": []
   },
   "outputs": [
    {
     "data": {
      "text/plain": [
       "'4'"
      ]
     },
     "execution_count": 37,
     "metadata": {},
     "output_type": "execute_result"
    }
   ],
   "source": [
    "key_max=error_table['PAPT;MP2/cc-pVTZ'].idxmax()\n",
    "key_max"
   ]
  },
  {
   "cell_type": "code",
   "execution_count": 32,
   "id": "d8e49308-e697-4c1f-9726-8c659ffa8d77",
   "metadata": {
    "tags": []
   },
   "outputs": [
    {
     "data": {
      "text/plain": [
       "{'reaction energies':     PAPT;MP2/cc-pVTZ\n",
       " 4         421.248022\n",
       " 5          67.696341\n",
       " 10        279.582580,\n",
       " 'reaction energy deviations':     PAPT;MP2/cc-pVTZ\n",
       " 4          16.074325\n",
       " 5           6.365416\n",
       " 10          2.733909,\n",
       " 'reaction statistics':         PAPT;MP2/cc-pVTZ\n",
       " MAD             8.391217\n",
       " MAXD           16.074325\n",
       " RMSD           10.105720\n",
       " MSD             8.391217\n",
       " STDEVD          6.897070,\n",
       " 'molecule energies':       PAPT;MP2/cc-pVTZ\n",
       " ts5     -972564.307807\n",
       " ts4     -311775.620698\n",
       " ed4     -312196.868721\n",
       " ed5     -972632.004148\n",
       " ed10    -348008.684205\n",
       " ts10    -347729.101625,\n",
       " 'molecule energy deviations':       PAPT;MP2/cc-pVTZ\n",
       " ts5          21.223866\n",
       " ts4          60.743016\n",
       " ed4          44.668691\n",
       " ed5          14.858450\n",
       " ed10         62.324754\n",
       " ts10         65.058663,\n",
       " 'molecule statistics':         PAPT;MP2/cc-pVTZ\n",
       " MAD            44.812907\n",
       " MAXD           65.058663\n",
       " RMSD           49.114215\n",
       " MSD            44.812907\n",
       " STDEVD         22.018433}"
      ]
     },
     "execution_count": 32,
     "metadata": {},
     "output_type": "execute_result"
    }
   ],
   "source": [
    "pymolpro.database.analyse(results['PAPT;MP2']['cc-pVTZ'],results['CCSD(T)']['cc-pVTZ'],'kJ/mol')"
   ]
  },
  {
   "cell_type": "code",
   "execution_count": null,
   "id": "a5333399-c053-4643-857c-cec11ba0305b",
   "metadata": {},
   "outputs": [],
   "source": [
    "df.loc[df['Value'].idxmax()]"
   ]
  }
 ],
 "metadata": {
  "kernelspec": {
   "display_name": "Python 3 (ipykernel)",
   "language": "python",
   "name": "python3"
  },
  "language_info": {
   "codemirror_mode": {
    "name": "ipython",
    "version": 3
   },
   "file_extension": ".py",
   "mimetype": "text/x-python",
   "name": "python",
   "nbconvert_exporter": "python",
   "pygments_lexer": "ipython3",
   "version": "3.10.10"
  }
 },
 "nbformat": 4,
 "nbformat_minor": 5
}
