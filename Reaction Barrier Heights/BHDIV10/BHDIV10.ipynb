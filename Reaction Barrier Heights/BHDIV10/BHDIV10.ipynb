{
 "cells": [
  {
   "cell_type": "code",
   "execution_count": 138,
   "id": "52523e2a-5114-4afd-ab7c-7c71e73c3ded",
   "metadata": {},
   "outputs": [],
   "source": [
    "import pymolpro\n",
    "import pandas as pd"
   ]
  },
  {
   "cell_type": "code",
   "execution_count": 139,
   "id": "1335753c-8ba3-4c4c-be16-2fe626102890",
   "metadata": {},
   "outputs": [],
   "source": [
    "backend = 'local' \n",
    "project_name = 'BHDIV10_methodtest'\n",
    "parallel = 8"
   ]
  },
  {
   "cell_type": "code",
   "execution_count": 140,
   "id": "e6920658-2ea5-4047-b8c2-0bb7217c8bfc",
   "metadata": {},
   "outputs": [],
   "source": [
    "methods = {\"HF\": \"hf\",\n",
    "\"MP2\": \"mp2\",\n",
    "\"MP3\": \"mp3\",\n",
    "\"MP4\": \"mp4\",\n",
    "\"PAPT2\":\"PAPT;MP2\",\n",
    "\"PAPT3\":\"PAPT;MP3\",\n",
    "\"PAPT4\":\"PAPT;MP4\",\n",
    "\"CCSD\":\"CCSD\",\n",
    "\"CCSD(T)\":\"CCSD(T)\" }\n",
    "bases = ['cc-pVDZ','cc-pVTZ']"
   ]
  },
  {
   "cell_type": "code",
   "execution_count": 141,
   "id": "1d079691-3970-47fe-90a6-85be0c12fdc8",
   "metadata": {},
   "outputs": [],
   "source": [
    "db = pymolpro.database.load(\"GMTKN55_BHDIV10\")"
   ]
  },
  {
   "cell_type": "code",
   "execution_count": 142,
   "id": "15ae8ce9-7011-4500-b7a8-4ecd468411f5",
   "metadata": {},
   "outputs": [
    {
     "name": "stdout",
     "output_type": "stream",
     "text": [
      "GMTKN55 BHDIV10 (closed shell only) (maximum number of electrons 30):\n",
      "\n",
      "Molecules:\n",
      "ts5: {'geometry': '10\\n  \\n B     0.0000000    0.0000000   -2.3759884 \\n H     0.5905364    1.0228391   -2.5936411 \\n H     0.5905364   -1.0228391   -2.5936411 \\n H    -1.1810728    0.0000000   -2.5936411 \\n P    -0.0000000    0.0000000    1.7684168 \\n H     0.6165007    1.0678105    2.4225352 \\n H     0.6165007   -1.0678105    2.4225352 \\n H    -1.2330014    0.0000000    2.4225352 \\n H     0.0000000    0.0000000   -1.0070281 \\n H    -0.0000000    0.0000000   -0.1475438 \\n', 'description': 'ts5'}\n",
      "ts4: {'geometry': '11\\n  \\n C    -0.2859289    0.9184703    1.0736652 \\n C    -0.4034021   -0.6529505   -0.3445861 \\n C     0.7266145   -0.7363334   -1.2029949 \\n H    -0.1370899    1.9111760    0.6466858 \\n H     0.4520114    0.7052124    1.8459804 \\n H     0.4779536    0.2142783   -0.1301686 \\n H    -1.2954707    0.8256305    1.4690274 \\n H    -1.3320510   -0.2613236   -0.7376201 \\n H    -0.5171754   -1.3832741    0.4455098 \\n H     0.7429527   -0.1922166   -2.1336196 \\n H     1.5715858   -1.3486694   -0.9318795 \\n', 'description': 'ts4'}\n",
      "ed4: {'geometry': '11\\n  \\n C    -0.2692331    1.5323856    1.6480625 \\n C    -0.3350059   -1.3093287   -1.0219199 \\n C     0.7843782   -1.2453943   -1.7259045 \\n H    -0.2270821    2.5841057    1.3754968 \\n H     0.3752031    1.3551361    2.5057916 \\n H     0.0655748    0.9253778    0.8098806 \\n H    -1.2922149    1.2660609    1.9032646 \\n H    -1.2276984   -0.7725013   -1.3185237 \\n H    -0.4079332   -1.9000042   -0.1170863 \\n H     0.8570528   -0.6540376   -2.6302551 \\n H     1.6769587   -1.7817999   -1.4288065 \\n', 'description': 'ed4'}\n",
      "ed5: {'geometry': '10\\n  \\n B     0.0000000    0.0000000   -3.0934966 \\n H     0.5950210    1.0306066   -3.1108480 \\n H     0.5950210   -1.0306066   -3.1108480 \\n H    -1.1900420    0.0000000   -3.1108480 \\n P     0.0000000    0.0000000    2.8489335 \\n H     0.5938246    1.0285344    3.6029291 \\n H     0.5938246   -1.0285344    3.6029291 \\n H    -1.1876492    0.0000000    3.6029291 \\n H     0.0000000    0.0000000   -0.9896633 \\n H     0.0000000    0.0000000   -0.2420169 \\n', 'description': 'ed5'}\n",
      "ed10: {'geometry': '6\\n  \\n C    -0.0000000    0.0000000   -0.4861410 \\n C     0.0000000    0.0000000    0.9653746 \\n N     0.0000000    0.0000000    2.1145426 \\n H    -0.5102145    0.8837175   -0.8645921 \\n H    -0.5102145   -0.8837175   -0.8645921 \\n H     1.0204291    0.0000000   -0.8645921 \\n', 'description': 'ed10'}\n",
      "ts10: {'geometry': '6\\n  \\n C    -0.3457134   -0.1728909    0.0000000 \\n C     1.3843767   -0.0520074    0.0000000 \\n N     0.9800815    1.0640658    0.0000000 \\n H    -1.0272588    0.6727741    0.0000000 \\n H    -0.4957430   -0.7559709    0.9004849 \\n H    -0.4957430   -0.7559709   -0.9004849 \\n', 'description': 'ts10'}\n",
      "\n",
      "Reactions:\n",
      "4: ed4 -> ts4, energy = 0.1532566504848\n",
      "5: ed5 -> ts5, energy = 0.0254020069536\n",
      "10: ed10 -> ts10, energy = 0.10347254149920002\n",
      "\n",
      "\n"
     ]
    }
   ],
   "source": [
    "small=db.subset(open_shell=False,max_electrons=30)\n",
    "print(small)"
   ]
  },
  {
   "cell_type": "code",
   "execution_count": 143,
   "id": "8b9e674b-1f0c-4797-8388-fb527bd2c995",
   "metadata": {},
   "outputs": [
    {
     "name": "stdout",
     "output_type": "stream",
     "text": [
      "{'HF': {'cc-pVDZ': <pymolpro.database.Database object at 0x7f303565ca30>, 'cc-pVTZ': <pymolpro.database.Database object at 0x7f303565d960>}, 'MP2': {'cc-pVDZ': <pymolpro.database.Database object at 0x7f303560b310>, 'cc-pVTZ': <pymolpro.database.Database object at 0x7f3035657880>}, 'MP3': {'cc-pVDZ': <pymolpro.database.Database object at 0x7f3035657130>, 'cc-pVTZ': <pymolpro.database.Database object at 0x7f30356561d0>}, 'MP4': {'cc-pVDZ': <pymolpro.database.Database object at 0x7f303562a1a0>, 'cc-pVTZ': <pymolpro.database.Database object at 0x7f303562add0>}, 'PAPT2': {'cc-pVDZ': <pymolpro.database.Database object at 0x7f303562a7a0>, 'cc-pVTZ': <pymolpro.database.Database object at 0x7f3035655ab0>}, 'PAPT3': {'cc-pVDZ': <pymolpro.database.Database object at 0x7f3035656110>, 'cc-pVTZ': <pymolpro.database.Database object at 0x7f3035654190>}, 'PAPT4': {'cc-pVDZ': <pymolpro.database.Database object at 0x7f3035656020>, 'cc-pVTZ': <pymolpro.database.Database object at 0x7f3035656650>}, 'CCSD': {'cc-pVDZ': <pymolpro.database.Database object at 0x7f30356519c0>, 'cc-pVTZ': <pymolpro.database.Database object at 0x7f3035653670>}, 'CCSD(T)': {'cc-pVDZ': <pymolpro.database.Database object at 0x7f30356515d0>, 'cc-pVTZ': <pymolpro.database.Database object at 0x7f3035652d40>}}\n"
     ]
    }
   ],
   "source": [
    "results = {}\n",
    "for method in methods:\n",
    "    results[method] = {}\n",
    "    for basis in bases:\n",
    "        results[method][basis] = pymolpro.database.run(small, methods[method], basis, location=project_name,\n",
    "                                                       preamble= 'angstrom' ,backend=backend ,parallel=parallel)\n",
    "        if results[method][basis].failed: print(method, basis, 'failed', results[method][basis].project_directory)\n",
    "        \n",
    "print(results)       "
   ]
  },
  {
   "cell_type": "code",
   "execution_count": 144,
   "id": "011d14b3-7501-4c86-9f6b-56c9d6a114f5",
   "metadata": {},
   "outputs": [
    {
     "name": "stdout",
     "output_type": "stream",
     "text": [
      "{'HF': <pymolpro.database.Database object at 0x7f3035651cf0>, 'MP2': <pymolpro.database.Database object at 0x7f30356526b0>, 'MP3': <pymolpro.database.Database object at 0x7f3035651ab0>, 'MP4': <pymolpro.database.Database object at 0x7f3035651f90>, 'PAPT2': <pymolpro.database.Database object at 0x7f30356507c0>, 'PAPT3': <pymolpro.database.Database object at 0x7f30356528f0>, 'PAPT4': <pymolpro.database.Database object at 0x7f3035652ad0>, 'CCSD': <pymolpro.database.Database object at 0x7f3035652f20>, 'CCSD(T)': <pymolpro.database.Database object at 0x7f3035652d70>}\n"
     ]
    }
   ],
   "source": [
    "extrapolate={}\n",
    "for method in  methods:\n",
    "    extrapolate[method]=pymolpro.database.basis_extrapolate(results[method].values(), results[\"HF\"].values())[0]\n",
    "print(extrapolate)"
   ]
  },
  {
   "cell_type": "code",
   "execution_count": 145,
   "id": "7d9888fa-60f3-4957-aecd-e33861c57dc3",
   "metadata": {},
   "outputs": [
    {
     "data": {
      "text/html": [
       "<div>\n",
       "<style scoped>\n",
       "    .dataframe tbody tr th:only-of-type {\n",
       "        vertical-align: middle;\n",
       "    }\n",
       "\n",
       "    .dataframe tbody tr th {\n",
       "        vertical-align: top;\n",
       "    }\n",
       "\n",
       "    .dataframe thead th {\n",
       "        text-align: right;\n",
       "    }\n",
       "</style>\n",
       "<table border=\"1\" class=\"dataframe\">\n",
       "  <thead>\n",
       "    <tr style=\"text-align: right;\">\n",
       "      <th></th>\n",
       "      <th>HF/cc-pV[23]Z</th>\n",
       "      <th>MP2/cc-pV[23]Z</th>\n",
       "      <th>MP3/cc-pV[23]Z</th>\n",
       "      <th>MP4/cc-pV[23]Z</th>\n",
       "      <th>PAPT;MP2/cc-pV[23]Z</th>\n",
       "      <th>PAPT;MP3/cc-pV[23]Z</th>\n",
       "      <th>PAPT;MP4/cc-pV[23]Z</th>\n",
       "      <th>CCSD/cc-pV[23]Z</th>\n",
       "      <th>CCSD(T)/cc-pV[23]Z</th>\n",
       "    </tr>\n",
       "  </thead>\n",
       "  <tbody>\n",
       "    <tr>\n",
       "      <th>MAD</th>\n",
       "      <td>50.01</td>\n",
       "      <td>9.71</td>\n",
       "      <td>6.16</td>\n",
       "      <td>4.02</td>\n",
       "      <td>8.65</td>\n",
       "      <td>9.01</td>\n",
       "      <td>1.36</td>\n",
       "      <td>10.55</td>\n",
       "      <td>0.00</td>\n",
       "    </tr>\n",
       "    <tr>\n",
       "      <th>MAXD</th>\n",
       "      <td>95.24</td>\n",
       "      <td>15.09</td>\n",
       "      <td>12.63</td>\n",
       "      <td>5.37</td>\n",
       "      <td>16.43</td>\n",
       "      <td>17.04</td>\n",
       "      <td>1.93</td>\n",
       "      <td>18.85</td>\n",
       "      <td>0.00</td>\n",
       "    </tr>\n",
       "    <tr>\n",
       "      <th>RMSD</th>\n",
       "      <td>63.26</td>\n",
       "      <td>11.12</td>\n",
       "      <td>7.70</td>\n",
       "      <td>4.34</td>\n",
       "      <td>10.36</td>\n",
       "      <td>10.83</td>\n",
       "      <td>1.49</td>\n",
       "      <td>12.18</td>\n",
       "      <td>0.00</td>\n",
       "    </tr>\n",
       "    <tr>\n",
       "      <th>MSD</th>\n",
       "      <td>49.61</td>\n",
       "      <td>0.35</td>\n",
       "      <td>6.16</td>\n",
       "      <td>-0.70</td>\n",
       "      <td>8.65</td>\n",
       "      <td>9.01</td>\n",
       "      <td>-1.36</td>\n",
       "      <td>10.55</td>\n",
       "      <td>0.00</td>\n",
       "    </tr>\n",
       "    <tr>\n",
       "      <th>STDEVD</th>\n",
       "      <td>48.09</td>\n",
       "      <td>13.61</td>\n",
       "      <td>5.65</td>\n",
       "      <td>5.25</td>\n",
       "      <td>6.98</td>\n",
       "      <td>7.35</td>\n",
       "      <td>0.75</td>\n",
       "      <td>7.47</td>\n",
       "      <td>0.00</td>\n",
       "    </tr>\n",
       "  </tbody>\n",
       "</table>\n",
       "</div>"
      ],
      "text/plain": [
       "        HF/cc-pV[23]Z  MP2/cc-pV[23]Z  MP3/cc-pV[23]Z  MP4/cc-pV[23]Z   \n",
       "MAD             50.01            9.71            6.16            4.02  \\\n",
       "MAXD            95.24           15.09           12.63            5.37   \n",
       "RMSD            63.26           11.12            7.70            4.34   \n",
       "MSD             49.61            0.35            6.16           -0.70   \n",
       "STDEVD          48.09           13.61            5.65            5.25   \n",
       "\n",
       "        PAPT;MP2/cc-pV[23]Z  PAPT;MP3/cc-pV[23]Z  PAPT;MP4/cc-pV[23]Z   \n",
       "MAD                    8.65                 9.01                 1.36  \\\n",
       "MAXD                  16.43                17.04                 1.93   \n",
       "RMSD                  10.36                10.83                 1.49   \n",
       "MSD                    8.65                 9.01                -1.36   \n",
       "STDEVD                 6.98                 7.35                 0.75   \n",
       "\n",
       "        CCSD/cc-pV[23]Z  CCSD(T)/cc-pV[23]Z  \n",
       "MAD               10.55                0.00  \n",
       "MAXD              18.85                0.00  \n",
       "RMSD              12.18                0.00  \n",
       "MSD               10.55                0.00  \n",
       "STDEVD             7.47                0.00  "
      ]
     },
     "execution_count": 145,
     "metadata": {},
     "output_type": "execute_result"
    }
   ],
   "source": [
    "results_with_extrapolation = results\n",
    "for method in results_with_extrapolation.keys():\n",
    "    results_with_extrapolation[method]['cc-pV[23]Z'] = extrapolate[method]\n",
    "results_with_extrapolation\n",
    "results = results_with_extrapolation\n",
    "\n",
    "pd.options.display.float_format = '{:,.2f}'.format\n",
    "analyse=pymolpro.database.analyse([result['cc-pV[23]Z'] for result in results.values()],results['CCSD(T)']['cc-pV[23]Z'],unit='kJ/mol')\n",
    "analyse['reaction statistics']"
   ]
  },
  {
   "cell_type": "code",
   "execution_count": 146,
   "id": "de5ce205-4a4f-4240-8cc3-cdc81425c50e",
   "metadata": {},
   "outputs": [
    {
     "data": {
      "image/png": "[encoded data removed]",
      "text/plain": [
       "<Figure size 1800x600 with 2 Axes>"
      ]
     },
     "metadata": {},
     "output_type": "display_data"
    }
   ],
   "source": [
    "import matplotlib.pyplot as plt\n",
    "\n",
    "methods_pruned = [method for method in methods if (method != 'HF') and (method != 'CCSD(T)')]\n",
    "bases_pruned = ['cc-pV[23]Z', 'cc-pVDZ']\n",
    "fig, panes = plt.subplots(nrows=1, ncols=len(bases_pruned), sharey=True, figsize=(18, 6))\n",
    "\n",
    "for pane in range(len(bases_pruned)):\n",
    "    data = []\n",
    "    for method in methods_pruned:\n",
    "        data.append(\n",
    "            pymolpro.database.analyse(results[method][bases_pruned[pane]],\n",
    "                                      results['CCSD(T)']['cc-pV[23]Z'],'kJ/mol')['reaction energy deviations'].to_numpy()[:, 0]\n",
    "        )\n",
    "    panes[pane].violinplot(data, showmeans=True, showextrema=True, vert=True, bw_method='silverman')\n",
    "    panes[pane].set_xticks(range(1, len(methods_pruned) + 1), labels=methods_pruned, rotation=-90)\n",
    "    panes[pane].set_title(bases_pruned[pane])\n",
    "panes[0].set_ylabel('Error / kJ/mol')\n",
    "plt.savefig(project_name + \".violin.pdf\")\n",
    "df = pd.DataFrame(data)\n",
    "df.to_excel(\"PAPT.xlsx\")"
   ]
  },
  {
   "cell_type": "code",
   "execution_count": null,
   "id": "c91610ec-7595-4861-afcd-0f238b73030d",
   "metadata": {},
   "outputs": [],
   "source": []
  }
 ],
 "metadata": {
  "kernelspec": {
   "display_name": "Python 3 (ipykernel)",
   "language": "python",
   "name": "python3"
  },
  "language_info": {
   "codemirror_mode": {
    "name": "ipython",
    "version": 3
   },
   "file_extension": ".py",
   "mimetype": "text/x-python",
   "name": "python",
   "nbconvert_exporter": "python",
   "pygments_lexer": "ipython3",
   "version": "3.10.10"
  }
 },
 "nbformat": 4,
 "nbformat_minor": 5
}
