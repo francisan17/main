{
 "cells": [
  {
   "cell_type": "code",
   "execution_count": 104,
   "id": "156edecf-7cdb-47a6-8113-bb5ceeb9ee03",
   "metadata": {},
   "outputs": [],
   "source": [
    "import pymolpro\n",
    "import pandas as pd"
   ]
  },
  {
   "cell_type": "code",
   "execution_count": 105,
   "id": "325854fa-0317-4f21-b5b3-dc2502b3094a",
   "metadata": {},
   "outputs": [],
   "source": [
    "backend = 'local' \n",
    "project_name = 'BHPERI_methodtest'\n",
    "parallel = 4"
   ]
  },
  {
   "cell_type": "code",
   "execution_count": 106,
   "id": "f47d5f1c-0a62-4477-bc9a-917b3987a020",
   "metadata": {},
   "outputs": [],
   "source": [
    "methods = {\"HF\": \"hf\",\n",
    "\"MP2\": \"mp2\",\n",
    "\"MP3\": \"mp3\",\n",
    "\"MP4\": \"mp4\",\n",
    "\"PAPT2\":\"PAPT;MP2\",\n",
    "\"PAPT3\":\"PAPT;MP3\",\n",
    "\"PAPT4\":\"PAPT;MP4\",\n",
    "\"CCSD\":\"CCSD\",\n",
    "\"CCSD(T)\":\"CCSD(T)\" }\n",
    "bases = ['cc-pVDZ','cc-pVTZ']"
   ]
  },
  {
   "cell_type": "code",
   "execution_count": 107,
   "id": "c83246fc-6968-450f-8598-43f28ed46bdc",
   "metadata": {},
   "outputs": [],
   "source": [
    "db = pymolpro.database.load(\"GMTKN55_BHPERI\")"
   ]
  },
  {
   "cell_type": "code",
   "execution_count": 108,
   "id": "2e8a49bb-a722-41ee-bfa6-1d667fd645b8",
   "metadata": {},
   "outputs": [
    {
     "name": "stdout",
     "output_type": "stream",
     "text": [
      "GMTKN55 BHPERI (closed shell only) (maximum number of electrons 38):\n",
      "\n",
      "Molecules:\n",
      "13ts_2a: {'geometry': '          10\\n  \\n    C          0.85850831      0.85149922     -0.05406558\\n    C          0.85665794     -0.53234843     -0.02148388\\n    N         -1.21895564     -0.93022557     -0.12349726\\n    N         -1.66704575      0.25593414     -0.01212111\\n    N         -1.21073866      1.33091420     -0.05063028\\n    H          1.03972910      1.42014742      0.84839247\\n    H          1.04072512      1.37132654     -0.98626823\\n    H          1.02509073     -1.05697875      0.91129082\\n    H          1.04207243     -1.10394180     -0.92050185\\n    H         -1.76604359     -1.60632696      0.40888490\\n', 'description': '13ts_2a'}\n",
      "1,3-Cyclopentadiene: {'geometry': '          11\\n  \\n    H         -1.78935891      0.87878322      0.00009791\\n    C         -1.12663167      0.00011091     -0.00000309\\n    C         -0.19168134      0.00002491     -1.18134951\\n    C          1.08468111     -0.00033309     -0.73469235\\n    C          1.08467711      0.00036691      0.73469617\\n    C         -0.19168634     -0.00040809      1.18134833\\n    H         -1.78983991     -0.87817540     -0.00010709\\n    H         -0.51850346     -0.00063709      2.21454170\\n    H         -0.51849346      0.00008591     -2.21454488\\n    H          1.97842443     -0.00042809     -1.34934557\\n    H          1.97841243      0.00060991      1.34935839\\n', 'description': '1,3-Cyclopentadiene'}\n",
      "13ts_1a: {'geometry': '           9\\n  \\n    C          0.64643893      0.66204762      0.00000000\\n    C          0.62059167     -0.72735291      0.00000000\\n    O         -1.43762017     -1.04803439      0.00000000\\n    N         -1.81431293      0.12667382      0.00000000\\n    N         -1.28271604      1.17289417      0.00000000\\n    H          0.87969100      1.19136240      0.91554310\\n    H          0.87969100      1.19136240     -0.91554310\\n    H          0.75411826     -1.28447655      0.91762992\\n    H          0.75411826     -1.28447655     -0.91762992\\n', 'description': '13ts_1a'}\n",
      "TS5: {'geometry': '          11\\n  \\n    C         -0.09812376     -0.86171422      0.74510227\\n    C         -0.09812376     -0.86171422     -0.74510227\\n    C         -0.07649575      0.48854926      1.14927041\\n    C         -0.07649575      0.48854926     -1.14927041\\n    C         -0.06639375      1.29138755      0.00000000\\n    H          0.96023961     -1.09286530      0.00000000\\n    H         -0.24947482     -1.74512953      1.35355848\\n    H         -0.24947482     -1.74512953     -1.35355848\\n    H         -0.02538874      0.83198439      2.17492777\\n    H         -0.02538874      0.83198439     -2.17492777\\n    H          0.00512027      2.37409794      0.00000000\\n', 'description': 'TS5'}\n",
      "TS4: {'geometry': '          13\\n  \\n    C         -0.01452154     -0.75798489      1.30942047\\n    C         -0.01452154     -0.75798489     -1.30942047\\n    C         -0.01452154      0.65683562      1.21164043\\n    C         -0.01452154      0.65683562     -1.21164043\\n    C         -0.17284160      1.33447586      0.00000000\\n    H          0.46798863     -1.05717499      0.00000000\\n    H          0.48511863     -1.18468504      2.18168078\\n    H          0.48511863     -1.18468504     -2.18168078\\n    H         -0.92708187     -1.30284508      1.06870038\\n    H         -0.92708187     -1.30284508     -1.06870038\\n    H          0.37512860      1.24016583      2.04603073\\n    H          0.37512860      1.24016583     -2.04603073\\n    H         -0.10339158      2.41972625      0.00000000\\n', 'description': 'TS4'}\n",
      "13ts_5a: {'geometry': '          11\\n  \\n    C         -1.14801349     -0.57975568      0.03120696\\n    C         -1.08021984      0.78192529      0.02639005\\n    N          1.30543743      1.13121591      0.11743732\\n    N          1.57534155     -0.09591016      0.00445069\\n    C          1.06337833     -1.19481227      0.00478589\\n    H         -1.31347505     -1.11800370      0.95840071\\n    H         -1.34813898     -1.12998002     -0.87963506\\n    H         -1.11376040      1.35419025      0.94257550\\n    H         -1.16281172      1.34381802     -0.89587363\\n    H          1.77093124      1.66037919     -0.62483756\\n    H          1.45133094     -2.15306682      0.31509914\\n', 'description': '13ts_5a'}\n",
      "13r_1: {'geometry': '           3\\n  \\n    N          0.00000000      0.00000000     -1.14542900\\n    N          0.00000000      0.00000000     -0.01934100\\n    O          0.00000000      0.00000000      1.16477000\\n', 'description': '13r_1'}\n",
      "13r_6: {'geometry': '           6\\n  \\n    C          0.96745826     -0.11636709      0.00000000\\n    N         -0.30997205     -0.08985970      0.00000000\\n    C         -1.52110730     -0.22012413      0.00000000\\n    H          1.50098112     -0.12812485      0.94177700\\n    H          1.50098112     -0.12812485     -0.94177700\\n    H         -2.13834115      0.68260062      0.00000000\\n', 'description': '13r_6'}\n",
      "1,3-Pentadiene: {'geometry': '          13\\n  \\n    C         -1.86938305     -0.82076114      0.00000000\\n    C         -1.22489282      0.53523134      0.00000000\\n    C          0.08995065      0.82396445      0.00000000\\n    C          1.19838604     -0.12151989      0.00000000\\n    C          2.48956450      0.24307724      0.00000000\\n    H         -1.91983207      1.37495364      0.00000000\\n    H          0.37839675      1.87546382      0.00000000\\n    H          0.95659896     -1.18296127      0.00000000\\n    H          3.29117379     -0.48943502      0.00000000\\n    H          2.78611361      1.28993861      0.00000000\\n    H         -1.14513379     -1.63953743      0.00000000\\n    H         -2.51547128     -0.94420718      0.87992031\\n    H         -2.51547128     -0.94420718     -0.87992031\\n', 'description': '1,3-Pentadiene'}\n",
      "13ts_6a: {'geometry': '          12\\n  \\n    C          1.27609040     -0.77327344      0.00000000\\n    C          1.23134723      0.58905339      0.00000000\\n    C         -1.18192378      1.07324973      0.00000000\\n    N         -1.49435191     -0.19905547      0.00000000\\n    C         -1.06638519     -1.33840171      0.00000000\\n    H          1.42015815     -1.33084885     -0.91708935\\n    H          1.42015815     -1.33084885      0.91708935\\n    H          1.34536200      1.15022023     -0.91956788\\n    H          1.34536200      1.15022023      0.91956788\\n    H         -1.30031450      1.61932430      0.92900354\\n    H         -1.30031450      1.61932430     -0.92900354\\n    H         -1.69518802     -2.22896383      0.00000000\\n', 'description': '13ts_6a'}\n",
      "13ts_4a: {'geometry': '          10\\n  \\n    C          0.93577667      0.39537143      0.00000000\\n    C          0.85196601     -0.96841085      0.00000000\\n    O         -1.50506259     -1.24340628      0.00000000\\n    N         -1.72883338     -0.04590722      0.00000000\\n    C         -1.16713640      1.02284528      0.00000000\\n    H          1.15273844      0.92694986      0.92000024\\n    H          1.15273844      0.92694986     -0.92000024\\n    H          0.87762775     -1.53660420      0.92009471\\n    H          0.87762775     -1.53660420     -0.92009471\\n    H         -1.44744268      2.05881632      0.00000000\\n', 'description': '13ts_4a'}\n",
      "Cyclobutene: {'geometry': '          10\\n  \\n    H          0.00000000     -1.42064151      1.71659501\\n    C          0.00000000      0.67017024      0.92994073\\n    C          0.00000000     -0.67017024      0.92994073\\n    C          0.00000000      0.78631128     -0.58457581\\n    C          0.00000000     -0.78631128     -0.58457581\\n    H          0.89010932     -1.24659944     -1.03097997\\n    H         -0.89010932     -1.24659944     -1.03097997\\n    H          0.00000000      1.42064151      1.71659501\\n    H         -0.89010932      1.24659944     -1.03097997\\n    H          0.89010932      1.24659944     -1.03097997\\n', 'description': 'Cyclobutene'}\n",
      "TS1: {'geometry': '          10\\n  \\n    H          1.88187897     -0.99345935     -0.43554356\\n    C          1.06487468     -0.51861718      0.11906264\\n    C         -1.06559108     -0.51780918     -0.11929244\\n    C          0.68378954      0.84034730     -0.08393443\\n    C         -0.68289794      0.84086830      0.08354363\\n    H         -1.88269037     -0.99191235      0.43581176\\n    H         -1.33865918      1.64958959      0.40321074\\n    H          0.87072861     -0.97895635      1.08054498\\n    H         -0.87195801     -0.97868835     -1.08060578\\n    H          1.34052478      1.64863759     -0.40279754\\n', 'description': 'TS1'}\n",
      "13_c2h4: {'geometry': '           6\\n  \\n    C         -0.66347200      0.00000000      0.00000000\\n    C          0.66347200      0.00000000      0.00000000\\n    H         -1.23459900     -0.92251800      0.00000000\\n    H         -1.23459900      0.92251800      0.00000000\\n    H          1.23459900      0.92251800      0.00000000\\n    H          1.23459900     -0.92251800      0.00000000\\n', 'description': '13_c2h4'}\n",
      "13r_5: {'geometry': '           5\\n  \\n    C         -1.13177830      0.15744932     -0.20511892\\n    H         -1.92265645      0.16979282      0.52564966\\n    N          0.05350137      0.12204224     -0.08218368\\n    N          1.28661152      0.24030428     -0.11445996\\n    H          1.71432186     -0.68958865     -0.12388711\\n', 'description': '13r_5'}\n",
      "13r_2: {'geometry': '           4\\n  \\n    N          0.44531110      0.15160583      0.00000000\\n    N          1.57525933      0.20103027      0.00000000\\n    N         -0.78577609      0.28131271      0.00000000\\n    H         -1.23479434     -0.63394881      0.00000000\\n', 'description': '13r_2'}\n",
      "13ts_3a: {'geometry': '          11\\n  \\n    C         -1.03666222      1.00226747      0.00000000\\n    C         -0.99802842     -0.37323986      0.00000000\\n    C          1.15125899     -0.89785440      0.00000000\\n    N          1.59581209      0.37970345      0.00000000\\n    N          1.23898727      1.47513174      0.00000000\\n    H         -1.16993317      1.56007075     -0.91825218\\n    H         -1.16993317      1.56007075      0.91825218\\n    H         -1.19957230     -0.92033561     -0.91402853\\n    H         -1.19957230     -0.92033561      0.91402853\\n    H          1.39382161     -1.43273935      0.91491930\\n    H          1.39382161     -1.43273935     -0.91491930\\n', 'description': '13ts_3a'}\n",
      "13r_3: {'geometry': '           5\\n  \\n    N          0.00000000      0.00000000      1.88832511\\n    N          0.00000000      0.00000000      0.75165554\\n    C          0.00000000      0.00000000     -0.54332281\\n    H          0.95203700      0.00000000     -1.04832892\\n    H         -0.95203700      0.00000000     -1.04832892\\n', 'description': '13r_3'}\n",
      "13r_4: {'geometry': '           4\\n  \\n    C          0.00000000      0.00000000     -0.61465700\\n    H          0.00000000      0.00000000     -1.67439300\\n    N          0.00000000      0.00000000      0.54494500\\n    O          0.00000000      0.00000000      1.74410500\\n', 'description': '13r_4'}\n",
      "\n",
      "Reactions:\n",
      "1: Cyclobutene -> TS1, energy = 0.056254130831999996\n",
      "4: 1,3-Pentadiene -> TS4, energy = 0.063265977168\n",
      "5: 1,3-Cyclopentadiene -> TS5, energy = 0.045098920752000005\n",
      "11: 13r_1 + 13_c2h4 -> 13ts_1a, energy = 0.043983399744\n",
      "12: 13r_2 + 13_c2h4 -> 13ts_2a, energy = 0.0318720288\n",
      "13: 13r_3 + 13_c2h4 -> 13ts_3a, energy = 0.021991699872\n",
      "14: 13r_4 + 13_c2h4 -> 13ts_4a, energy = 0.018804496992\n",
      "15: 13r_5 + 13_c2h4 -> 13ts_5a, energy = 0.010358409360000001\n",
      "16: 13r_6 + 13_c2h4 -> 13ts_6a, energy = 0.0074899267680000004\n",
      "\n",
      "\n"
     ]
    }
   ],
   "source": [
    "small=db.subset(open_shell=False,max_electrons=38)\n",
    "print(small)"
   ]
  },
  {
   "cell_type": "code",
   "execution_count": 109,
   "id": "b26e0326-8663-49fd-b50a-2349289e3de5",
   "metadata": {},
   "outputs": [
    {
     "name": "stdout",
     "output_type": "stream",
     "text": [
      "{'HF': {'cc-pVDZ': <pymolpro.database.Database object at 0x7f20e3ac2170>, 'cc-pVTZ': <pymolpro.database.Database object at 0x7f20e3d3e350>}, 'MP2': {'cc-pVDZ': <pymolpro.database.Database object at 0x7f20e35b3c10>, 'cc-pVTZ': <pymolpro.database.Database object at 0x7f20607e2290>}, 'MP3': {'cc-pVDZ': <pymolpro.database.Database object at 0x7f20e3987d00>, 'cc-pVTZ': <pymolpro.database.Database object at 0x7f20607bceb0>}, 'MP4': {'cc-pVDZ': <pymolpro.database.Database object at 0x7f20e3fa7160>, 'cc-pVTZ': <pymolpro.database.Database object at 0x7f20607e10f0>}, 'PAPT2': {'cc-pVDZ': <pymolpro.database.Database object at 0x7f20e393b6a0>, 'cc-pVTZ': <pymolpro.database.Database object at 0x7f20607be290>}, 'PAPT3': {'cc-pVDZ': <pymolpro.database.Database object at 0x7f20607bcc70>, 'cc-pVTZ': <pymolpro.database.Database object at 0x7f20e38ec0a0>}, 'PAPT4': {'cc-pVDZ': <pymolpro.database.Database object at 0x7f20607a0c40>, 'cc-pVTZ': <pymolpro.database.Database object at 0x7f20607a0910>}, 'CCSD': {'cc-pVDZ': <pymolpro.database.Database object at 0x7f20607be9e0>, 'cc-pVTZ': <pymolpro.database.Database object at 0x7f20607a1300>}, 'CCSD(T)': {'cc-pVDZ': <pymolpro.database.Database object at 0x7f20607bea10>, 'cc-pVTZ': <pymolpro.database.Database object at 0x7f2071064160>}}\n"
     ]
    }
   ],
   "source": [
    "results = {}\n",
    "for method in methods:\n",
    "    results[method] = {}\n",
    "    for basis in bases:\n",
    "        results[method][basis] = pymolpro.database.run(small, methods[method], basis, location=project_name,\n",
    "                                                       preamble= 'angstrom' ,backend=backend ,parallel=parallel)\n",
    "        if results[method][basis].failed: print(method, basis, 'failed', results[method][basis].project_directory)\n",
    "        \n",
    "print(results)    "
   ]
  },
  {
   "cell_type": "code",
   "execution_count": 110,
   "id": "ebb2824e-9056-4704-bb94-b9a28cbc1428",
   "metadata": {},
   "outputs": [
    {
     "name": "stdout",
     "output_type": "stream",
     "text": [
      "{'HF': <pymolpro.database.Database object at 0x7f2071002ec0>, 'MP2': <pymolpro.database.Database object at 0x7f20e3966410>, 'MP3': <pymolpro.database.Database object at 0x7f20e3964100>, 'MP4': <pymolpro.database.Database object at 0x7f20e3966230>, 'PAPT2': <pymolpro.database.Database object at 0x7f20e39675b0>, 'PAPT3': <pymolpro.database.Database object at 0x7f20e3e70b20>, 'PAPT4': <pymolpro.database.Database object at 0x7f2071066e90>, 'CCSD': <pymolpro.database.Database object at 0x7f2071066e60>, 'CCSD(T)': <pymolpro.database.Database object at 0x7f2071066b90>}\n"
     ]
    }
   ],
   "source": [
    "extrapolate={}\n",
    "for method in  methods:\n",
    "    extrapolate[method]=pymolpro.database.basis_extrapolate                   (results[method].values(), results[\"HF\"].values())[0]\n",
    "print(extrapolate)"
   ]
  },
  {
   "cell_type": "code",
   "execution_count": 111,
   "id": "98dca1b9-bc34-4d2e-ace1-cb1a14f42186",
   "metadata": {},
   "outputs": [
    {
     "data": {
      "text/html": [
       "<div>\n",
       "<style scoped>\n",
       "    .dataframe tbody tr th:only-of-type {\n",
       "        vertical-align: middle;\n",
       "    }\n",
       "\n",
       "    .dataframe tbody tr th {\n",
       "        vertical-align: top;\n",
       "    }\n",
       "\n",
       "    .dataframe thead th {\n",
       "        text-align: right;\n",
       "    }\n",
       "</style>\n",
       "<table border=\"1\" class=\"dataframe\">\n",
       "  <thead>\n",
       "    <tr style=\"text-align: right;\">\n",
       "      <th></th>\n",
       "      <th>HF/cc-pV[23]Z</th>\n",
       "      <th>MP2/cc-pV[23]Z</th>\n",
       "      <th>MP3/cc-pV[23]Z</th>\n",
       "      <th>MP4/cc-pV[23]Z</th>\n",
       "      <th>PAPT;MP2/cc-pV[23]Z</th>\n",
       "      <th>PAPT;MP3/cc-pV[23]Z</th>\n",
       "      <th>PAPT;MP4/cc-pV[23]Z</th>\n",
       "      <th>CCSD/cc-pV[23]Z</th>\n",
       "      <th>CCSD(T)/cc-pV[23]Z</th>\n",
       "    </tr>\n",
       "  </thead>\n",
       "  <tbody>\n",
       "    <tr>\n",
       "      <th>MAD</th>\n",
       "      <td>81.78</td>\n",
       "      <td>24.27</td>\n",
       "      <td>15.60</td>\n",
       "      <td>12.84</td>\n",
       "      <td>14.54</td>\n",
       "      <td>15.11</td>\n",
       "      <td>1.75</td>\n",
       "      <td>19.60</td>\n",
       "      <td>0.00</td>\n",
       "    </tr>\n",
       "    <tr>\n",
       "      <th>MAXD</th>\n",
       "      <td>108.83</td>\n",
       "      <td>36.54</td>\n",
       "      <td>27.60</td>\n",
       "      <td>19.83</td>\n",
       "      <td>25.00</td>\n",
       "      <td>25.53</td>\n",
       "      <td>4.25</td>\n",
       "      <td>26.84</td>\n",
       "      <td>0.00</td>\n",
       "    </tr>\n",
       "    <tr>\n",
       "      <th>RMSD</th>\n",
       "      <td>85.90</td>\n",
       "      <td>26.21</td>\n",
       "      <td>17.49</td>\n",
       "      <td>13.72</td>\n",
       "      <td>15.91</td>\n",
       "      <td>16.42</td>\n",
       "      <td>2.20</td>\n",
       "      <td>20.45</td>\n",
       "      <td>0.00</td>\n",
       "    </tr>\n",
       "    <tr>\n",
       "      <th>MSD</th>\n",
       "      <td>81.78</td>\n",
       "      <td>-24.27</td>\n",
       "      <td>15.60</td>\n",
       "      <td>-12.84</td>\n",
       "      <td>14.54</td>\n",
       "      <td>15.11</td>\n",
       "      <td>-0.98</td>\n",
       "      <td>19.60</td>\n",
       "      <td>0.00</td>\n",
       "    </tr>\n",
       "    <tr>\n",
       "      <th>STDEVD</th>\n",
       "      <td>27.87</td>\n",
       "      <td>10.50</td>\n",
       "      <td>8.39</td>\n",
       "      <td>5.12</td>\n",
       "      <td>6.85</td>\n",
       "      <td>6.81</td>\n",
       "      <td>2.09</td>\n",
       "      <td>6.19</td>\n",
       "      <td>0.00</td>\n",
       "    </tr>\n",
       "  </tbody>\n",
       "</table>\n",
       "</div>"
      ],
      "text/plain": [
       "        HF/cc-pV[23]Z  MP2/cc-pV[23]Z  MP3/cc-pV[23]Z  MP4/cc-pV[23]Z   \n",
       "MAD             81.78           24.27           15.60           12.84  \\\n",
       "MAXD           108.83           36.54           27.60           19.83   \n",
       "RMSD            85.90           26.21           17.49           13.72   \n",
       "MSD             81.78          -24.27           15.60          -12.84   \n",
       "STDEVD          27.87           10.50            8.39            5.12   \n",
       "\n",
       "        PAPT;MP2/cc-pV[23]Z  PAPT;MP3/cc-pV[23]Z  PAPT;MP4/cc-pV[23]Z   \n",
       "MAD                   14.54                15.11                 1.75  \\\n",
       "MAXD                  25.00                25.53                 4.25   \n",
       "RMSD                  15.91                16.42                 2.20   \n",
       "MSD                   14.54                15.11                -0.98   \n",
       "STDEVD                 6.85                 6.81                 2.09   \n",
       "\n",
       "        CCSD/cc-pV[23]Z  CCSD(T)/cc-pV[23]Z  \n",
       "MAD               19.60                0.00  \n",
       "MAXD              26.84                0.00  \n",
       "RMSD              20.45                0.00  \n",
       "MSD               19.60                0.00  \n",
       "STDEVD             6.19                0.00  "
      ]
     },
     "execution_count": 111,
     "metadata": {},
     "output_type": "execute_result"
    }
   ],
   "source": [
    "results_with_extrapolation = results\n",
    "for method in results_with_extrapolation.keys():\n",
    "    results_with_extrapolation[method]['cc-pV[23]Z'] = extrapolate[method]\n",
    "results_with_extrapolation\n",
    "results = results_with_extrapolation\n",
    "\n",
    "pd.options.display.float_format = '{:,.2f}'.format\n",
    "analyse=pymolpro.database.analyse([result['cc-pV[23]Z'] for result in results.values()],results['CCSD(T)']['cc-pV[23]Z'],unit='kJ/mol')\n",
    "analyse['reaction statistics']"
   ]
  },
  {
   "cell_type": "code",
   "execution_count": 112,
   "id": "12799488-db55-4e74-afb0-fdf5155e7e54",
   "metadata": {},
   "outputs": [
    {
     "data": {
      "image/png": "[encoded data removed]",
      "text/plain": [
       "<Figure size 1800x600 with 2 Axes>"
      ]
     },
     "metadata": {},
     "output_type": "display_data"
    }
   ],
   "source": [
    "import matplotlib.pyplot as plt\n",
    "\n",
    "methods_pruned = [method for method in methods if (method != 'HF') and (method != 'CCSD(T)')]\n",
    "bases_pruned = ['cc-pV[23]Z', 'cc-pVTZ']\n",
    "fig, panes = plt.subplots(nrows=1, ncols=len(bases_pruned), sharey=True, figsize=(18, 6))\n",
    "\n",
    "for pane in range(len(bases_pruned)):\n",
    "    data = []\n",
    "    for method in methods_pruned:\n",
    "        data.append(\n",
    "            pymolpro.database.analyse(results[method][bases_pruned[pane]],\n",
    "                                      results['CCSD(T)']['cc-pV[23]Z'],'kJ/mol')['reaction energy deviations'].to_numpy()[:, 0]\n",
    "        )\n",
    "    panes[pane].violinplot(data, showmeans=True, showextrema=True, vert=True, bw_method='silverman')\n",
    "    panes[pane].set_xticks(range(1, len(methods_pruned) + 1), labels=methods_pruned, rotation=-90)\n",
    "    panes[pane].set_title(bases_pruned[pane])\n",
    "panes[0].set_ylabel('Error / kJ/mol')\n",
    "plt.savefig(project_name + \".violin.pdf\")\n",
    "df = pd.DataFrame(data)\n",
    "df.to_excel(\"PAPT.xlsx\")"
   ]
  },
  {
   "cell_type": "code",
   "execution_count": 95,
   "id": "3ff9cdc0-318d-4616-826f-db8d5bbe5ad1",
   "metadata": {},
   "outputs": [
    {
     "data": {
      "text/plain": [
       "[<pymolpro.database.Database at 0x7f20e3aff910>]"
      ]
     },
     "execution_count": 95,
     "metadata": {},
     "output_type": "execute_result"
    }
   ],
   "source": [
    "extrapolate=pymolpro.database.basis_extrapolate(results[method].values(), results[\"HF\"].values())\n",
    "extrapolate"
   ]
  }
 ],
 "metadata": {
  "kernelspec": {
   "display_name": "Python 3 (ipykernel)",
   "language": "python",
   "name": "python3"
  },
  "language_info": {
   "codemirror_mode": {
    "name": "ipython",
    "version": 3
   },
   "file_extension": ".py",
   "mimetype": "text/x-python",
   "name": "python",
   "nbconvert_exporter": "python",
   "pygments_lexer": "ipython3",
   "version": "3.10.10"
  }
 },
 "nbformat": 4,
 "nbformat_minor": 5
}
