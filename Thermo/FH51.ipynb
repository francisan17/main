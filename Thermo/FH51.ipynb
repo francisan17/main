{
 "cells": [
  {
   "cell_type": "code",
   "execution_count": 66,
   "id": "bbe4ef64-c985-49c7-bf3d-bd0358bec342",
   "metadata": {},
   "outputs": [],
   "source": [
    "import pymolpro\n",
    "import pandas as pd"
   ]
  },
  {
   "cell_type": "code",
   "execution_count": 67,
   "id": "6c3db252-0cd1-4a61-bbf6-68ab3f182dbc",
   "metadata": {},
   "outputs": [],
   "source": [
    "backend = 'local' \n",
    "project_name = 'FH51_methodtest'\n",
    "parallel = 8"
   ]
  },
  {
   "cell_type": "code",
   "execution_count": 68,
   "id": "c93326a5-850e-4cc3-a382-db95485a2844",
   "metadata": {},
   "outputs": [],
   "source": [
    "methods = {\"HF\": \"hf\",\n",
    "\"MP2\": \"mp2\",\n",
    "\"MP3\": \"mp3\",\n",
    "\"MP4\": \"mp4\",\n",
    "\"PAPT2\":\"PAPT;MP2\",\n",
    "\"PAPT3\":\"PAPT;MP3\",\n",
    "\"PAPT4\":\"PAPT;MP4\",\n",
    "\"CCSD\":\"CCSD\",\n",
    "\"CCSD(T)\":\"CCSD(T)\" }\n",
    "bases = ['cc-pVDZ','cc-pVTZ']"
   ]
  },
  {
   "cell_type": "code",
   "execution_count": 69,
   "id": "582c7d92-df29-452b-8f25-45cd9a523440",
   "metadata": {},
   "outputs": [],
   "source": [
    "db = pymolpro.database.load(\"GMTKN55_FH51\")"
   ]
  },
  {
   "cell_type": "code",
   "execution_count": 70,
   "id": "0eed350d-a331-4901-b5d6-03c0e39de744",
   "metadata": {},
   "outputs": [
    {
     "name": "stdout",
     "output_type": "stream",
     "text": [
      "GMTKN55 FH51 (closed shell only) (maximum number of electrons 40):\n",
      "\n",
      "Molecules:\n",
      "H2O: {'geometry': '           3\\n  \\n    O         -1.09989026     -0.36122310      0.00000000\\n    H         -0.12964877     -0.31792312      0.00000000\\n    H         -1.38294827      0.56782190      0.00000000\\n', 'description': 'H2O'}\n",
      "1-pentene: {'geometry': '          15\\n  \\n    C         -3.68308053      0.94452211     -0.01656012\\n    H         -3.68590013     -0.15545023      0.01932632\\n    H         -3.15545960      1.24410275     -0.93472391\\n    H         -4.72649383      1.27817511     -0.10830711\\n    C         -3.01404275      1.53769362      1.22534673\\n    H         -3.04848053      2.63830850      1.18144679\\n    H         -3.58173640      1.25027510      2.12610967\\n    C         -1.54958284      1.09017006      1.38850510\\n    H         -1.52589130     -0.01495244      1.41907116\\n    H         -0.96721377      1.39104970      0.50204330\\n    C         -0.89999612      1.63188771      2.62799409\\n    H         -1.38186039      1.36273802      3.57573515\\n    C          0.18641143      2.40913614      2.65699083\\n    H          0.60540367      2.77523978      3.59524962\\n    H          0.70012704      2.70592330      1.73893155\\n', 'description': '1-pentene'}\n",
      "H2: {'geometry': '           2\\n  \\n    H          0.07172858     -0.99088844      0.00000000\\n    H         -0.67901788     -0.99088844      0.00000000\\n', 'description': 'H2'}\n",
      "2-pentyne: {'geometry': '          13\\n  \\n    C         -1.15652361      2.93352478      1.38638873\\n    H         -1.85899517      3.64036578      1.84778981\\n    H         -0.88476369      3.31466237      0.39188227\\n    H         -0.25010039      2.90547455      2.00563584\\n    C         -1.78583109      1.53234273      1.27366635\\n    H         -2.67209324      1.57854710      0.61845852\\n    H         -1.07752237      0.85015202      0.77388167\\n    C         -2.16996609      0.96729694      2.56450663\\n    C         -2.47846590      0.52534993      3.65250700\\n    C         -2.85195129     -0.01527234      4.95275370\\n    H         -2.42391460     -1.01780635      5.10694049\\n    H         -2.49335749      0.62859056      5.77043736\\n    H         -3.94494133     -0.10110164      5.05177549\\n', 'description': '2-pentyne'}\n",
      "trans-2-pentene: {'geometry': '          15\\n  \\n    C         -5.76745308     -0.23855881      0.00098197\\n    H         -5.43699475     -1.27862615     -0.13962232\\n    H         -5.26493952      0.37563760     -0.75972990\\n    H         -6.84967954     -0.20282894     -0.19007522\\n    C         -5.43686852      0.26196541      1.41687754\\n    H         -5.78556007      1.30004079      1.53903509\\n    H         -6.00279075     -0.34487505      2.14602077\\n    C         -3.97190847      0.18462218      1.73816540\\n    H         -3.52089719     -0.81551063      1.68982361\\n    C         -3.19033013      1.22351380      2.05655312\\n    H         -3.64348235      2.22177651      2.10034189\\n    C         -1.72602012      1.14530619      2.36798530\\n    H         -1.13539318      1.76498143      1.67365476\\n    H         -1.51110898      1.52289784      3.38101944\\n    H         -1.35458411      0.11292488      2.30385288\\n', 'description': 'trans-2-pentene'}\n",
      "C2H5CO2H: {'geometry': '          11\\n  \\n    C          0.84569904      0.12713761      0.13946157\\n    O          2.05989851      0.13279236      0.15296094\\n    C         -0.03711667     -1.08753667     -0.04275033\\n    H         -0.64680710     -1.19719475      0.86842957\\n    H          0.62855514     -1.95668832     -0.10873027\\n    C         -0.95678165     -0.99781798     -1.27012836\\n    H         -1.56228772     -1.91016058     -1.35559181\\n    H         -1.63656465     -0.13999836     -1.19437542\\n    H         -0.37318621     -0.89300682     -2.19519053\\n    O          0.10954038      1.27039295      0.29899113\\n    H          0.76324433      1.99277608      0.40588619\\n', 'description': 'C2H5CO2H'}\n",
      "NH3: {'geometry': '           4\\n  \\n    N         -1.04378426     -0.09487228      0.00000000\\n    H         -0.65570104     -1.04047940      0.00000000\\n    H         -0.65567745      0.37796757      0.81892116\\n    H         -0.65567745      0.37796757     -0.81892116\\n', 'description': 'NH3'}\n",
      "cis-2-pentene: {'geometry': '          15\\n  \\n    C         -0.50973845     -4.57409193      4.82078256\\n    H          0.12390675     -4.81524791      5.68716964\\n    H          0.15526735     -4.38166597      3.96691327\\n    H         -1.11467319     -5.46282563      4.58988793\\n    C         -1.40199201     -3.35538275      5.11048399\\n    H         -2.04014145     -3.14723348      4.23950113\\n    H         -2.08767775     -3.61035058      5.93828216\\n    C         -0.60901681     -2.13869195      5.49603240\\n    H          0.06148939     -2.28076413      6.35155563\\n    C         -0.61956324     -0.92707393      4.91947698\\n    H          0.03865347     -0.16350647      5.34781832\\n    C         -1.43816619     -0.47482642      3.74666948\\n    H         -2.11673732      0.34474903      4.03474932\\n    H         -0.79185021     -0.07516951      2.94871813\\n    H         -2.04903062     -1.27818940      3.31602797\\n', 'description': 'cis-2-pentene'}\n",
      "C2H5CONH2: {'geometry': '          12\\n  \\n    C          0.70338207      0.41072619     -0.43358139\\n    O          1.38149083      0.42641087     -1.45571311\\n    C         -0.26121262     -0.72702314     -0.09377997\\n    H         -1.04013345     -0.37584786      0.60160992\\n    H          0.32785958     -1.48083385      0.45638787\\n    N          0.78095173      1.40866259      0.50263688\\n    H          0.23673184      1.39536412      1.35566886\\n    H          1.45273932      2.15458782      0.35799207\\n    C         -0.88042004     -1.35872278     -1.34035635\\n    H         -1.46910601     -2.24747287     -1.07535319\\n    H         -1.54325977     -0.65017538     -1.85613339\\n    H         -0.09397911     -1.65231338     -2.04644039\\n', 'description': 'C2H5CONH2'}\n",
      "\n",
      "Reactions:\n",
      "13: 2-pentyne + H2 -> trans-2-pentene, energy = -0.0714252165408\n",
      "14: 2-pentyne + H2 -> cis-2-pentene, energy = -0.0695925748848\n",
      "45: 1-pentene -> trans-2-pentene, energy = -0.0033624990384\n",
      "47: cis-2-pentene -> trans-2-pentene, energy = -0.0018326416559999999\n",
      "49: C2H5CO2H + NH3 -> C2H5CONH2 + H2O, energy = -0.0006852486192\n",
      "\n",
      "\n"
     ]
    }
   ],
   "source": [
    "small=db.subset(open_shell=False,max_electrons=40)\n",
    "print(small)"
   ]
  },
  {
   "cell_type": "code",
   "execution_count": 71,
   "id": "93e291a8-29f7-43b0-8330-31993058f00f",
   "metadata": {},
   "outputs": [
    {
     "name": "stdout",
     "output_type": "stream",
     "text": [
      "{'HF': {'cc-pVDZ': <pymolpro.database.Database object at 0x7fefe1143730>, 'cc-pVTZ': <pymolpro.database.Database object at 0x7fefe119a4a0>}, 'MP2': {'cc-pVDZ': <pymolpro.database.Database object at 0x7ff00bfd3940>, 'cc-pVTZ': <pymolpro.database.Database object at 0x7fefe11c3970>}, 'MP3': {'cc-pVDZ': <pymolpro.database.Database object at 0x7fefe11eeb60>, 'cc-pVTZ': <pymolpro.database.Database object at 0x7fefe11ef010>}, 'MP4': {'cc-pVDZ': <pymolpro.database.Database object at 0x7fefe11eebc0>, 'cc-pVTZ': <pymolpro.database.Database object at 0x7fefe11eec20>}, 'PAPT2': {'cc-pVDZ': <pymolpro.database.Database object at 0x7fefe11d4850>, 'cc-pVTZ': <pymolpro.database.Database object at 0x7fefe11ed930>}, 'PAPT3': {'cc-pVDZ': <pymolpro.database.Database object at 0x7fefe11d49a0>, 'cc-pVTZ': <pymolpro.database.Database object at 0x7fefe11d4760>}, 'PAPT4': {'cc-pVDZ': <pymolpro.database.Database object at 0x7fefe1039cc0>, 'cc-pVTZ': <pymolpro.database.Database object at 0x7fefe1039f60>}, 'CCSD': {'cc-pVDZ': <pymolpro.database.Database object at 0x7fefe10394e0>, 'cc-pVTZ': <pymolpro.database.Database object at 0x7fefe1038670>}, 'CCSD(T)': {'cc-pVDZ': <pymolpro.database.Database object at 0x7fefe10388e0>, 'cc-pVTZ': <pymolpro.database.Database object at 0x7fefe103ad10>}}\n"
     ]
    }
   ],
   "source": [
    "results = {}\n",
    "for method in methods:\n",
    "    results[method] = {}\n",
    "    for basis in bases:\n",
    "        results[method][basis] = pymolpro.database.run(small, methods[method], basis, location=project_name,\n",
    "                                                       preamble= 'angstrom' ,backend=backend ,parallel=parallel)\n",
    "        if results[method][basis].failed: print(method, basis, 'failed', results[method][basis].project_directory)\n",
    "        \n",
    "print(results)    "
   ]
  },
  {
   "cell_type": "code",
   "execution_count": 72,
   "id": "3d96e720-3326-4b13-9da0-4994b8d26b18",
   "metadata": {},
   "outputs": [
    {
     "name": "stdout",
     "output_type": "stream",
     "text": [
      "{'HF': <pymolpro.database.Database object at 0x7fefe11ee920>, 'MP2': <pymolpro.database.Database object at 0x7fefe11ee8f0>, 'MP3': <pymolpro.database.Database object at 0x7fefe11ee7d0>, 'MP4': <pymolpro.database.Database object at 0x7fefe11eea70>, 'PAPT2': <pymolpro.database.Database object at 0x7fefe11ecd30>, 'PAPT3': <pymolpro.database.Database object at 0x7fefe11ee2c0>, 'PAPT4': <pymolpro.database.Database object at 0x7fefe11ee800>, 'CCSD': <pymolpro.database.Database object at 0x7fefe11eead0>, 'CCSD(T)': <pymolpro.database.Database object at 0x7fefe11eeaa0>}\n"
     ]
    }
   ],
   "source": [
    "extrapolate={}\n",
    "for method in  methods:\n",
    "    extrapolate[method]=pymolpro.database.basis_extrapolate                  (results[method].values(), results[\"HF\"].values())[0]\n",
    "print(extrapolate)"
   ]
  },
  {
   "cell_type": "code",
   "execution_count": 73,
   "id": "dd704b9f-440d-4563-a554-322e4bee0db8",
   "metadata": {},
   "outputs": [
    {
     "data": {
      "text/html": [
       "<div>\n",
       "<style scoped>\n",
       "    .dataframe tbody tr th:only-of-type {\n",
       "        vertical-align: middle;\n",
       "    }\n",
       "\n",
       "    .dataframe tbody tr th {\n",
       "        vertical-align: top;\n",
       "    }\n",
       "\n",
       "    .dataframe thead th {\n",
       "        text-align: right;\n",
       "    }\n",
       "</style>\n",
       "<table border=\"1\" class=\"dataframe\">\n",
       "  <thead>\n",
       "    <tr style=\"text-align: right;\">\n",
       "      <th></th>\n",
       "      <th>HF/cc-pV[23]Z</th>\n",
       "      <th>MP2/cc-pV[23]Z</th>\n",
       "      <th>MP3/cc-pV[23]Z</th>\n",
       "      <th>MP4/cc-pV[23]Z</th>\n",
       "      <th>PAPT;MP2/cc-pV[23]Z</th>\n",
       "      <th>PAPT;MP3/cc-pV[23]Z</th>\n",
       "      <th>PAPT;MP4/cc-pV[23]Z</th>\n",
       "      <th>CCSD/cc-pV[23]Z</th>\n",
       "      <th>CCSD(T)/cc-pV[23]Z</th>\n",
       "    </tr>\n",
       "  </thead>\n",
       "  <tbody>\n",
       "    <tr>\n",
       "      <th>MAD</th>\n",
       "      <td>3.48</td>\n",
       "      <td>5.11</td>\n",
       "      <td>4.95</td>\n",
       "      <td>2.95</td>\n",
       "      <td>2.78</td>\n",
       "      <td>2.59</td>\n",
       "      <td>0.70</td>\n",
       "      <td>1.04</td>\n",
       "      <td>0.00</td>\n",
       "    </tr>\n",
       "    <tr>\n",
       "      <th>MAXD</th>\n",
       "      <td>7.58</td>\n",
       "      <td>10.35</td>\n",
       "      <td>10.86</td>\n",
       "      <td>6.53</td>\n",
       "      <td>6.23</td>\n",
       "      <td>5.82</td>\n",
       "      <td>1.67</td>\n",
       "      <td>2.32</td>\n",
       "      <td>0.00</td>\n",
       "    </tr>\n",
       "    <tr>\n",
       "      <th>RMSD</th>\n",
       "      <td>4.31</td>\n",
       "      <td>6.75</td>\n",
       "      <td>6.87</td>\n",
       "      <td>4.14</td>\n",
       "      <td>3.82</td>\n",
       "      <td>3.56</td>\n",
       "      <td>1.03</td>\n",
       "      <td>1.38</td>\n",
       "      <td>0.00</td>\n",
       "    </tr>\n",
       "    <tr>\n",
       "      <th>MSD</th>\n",
       "      <td>2.34</td>\n",
       "      <td>3.17</td>\n",
       "      <td>-4.95</td>\n",
       "      <td>2.74</td>\n",
       "      <td>-2.78</td>\n",
       "      <td>-2.59</td>\n",
       "      <td>-0.67</td>\n",
       "      <td>-0.97</td>\n",
       "      <td>0.00</td>\n",
       "    </tr>\n",
       "    <tr>\n",
       "      <th>STDEVD</th>\n",
       "      <td>4.05</td>\n",
       "      <td>6.66</td>\n",
       "      <td>5.33</td>\n",
       "      <td>3.46</td>\n",
       "      <td>2.93</td>\n",
       "      <td>2.73</td>\n",
       "      <td>0.87</td>\n",
       "      <td>1.10</td>\n",
       "      <td>0.00</td>\n",
       "    </tr>\n",
       "  </tbody>\n",
       "</table>\n",
       "</div>"
      ],
      "text/plain": [
       "        HF/cc-pV[23]Z  MP2/cc-pV[23]Z  MP3/cc-pV[23]Z  MP4/cc-pV[23]Z   \n",
       "MAD              3.48            5.11            4.95            2.95  \\\n",
       "MAXD             7.58           10.35           10.86            6.53   \n",
       "RMSD             4.31            6.75            6.87            4.14   \n",
       "MSD              2.34            3.17           -4.95            2.74   \n",
       "STDEVD           4.05            6.66            5.33            3.46   \n",
       "\n",
       "        PAPT;MP2/cc-pV[23]Z  PAPT;MP3/cc-pV[23]Z  PAPT;MP4/cc-pV[23]Z   \n",
       "MAD                    2.78                 2.59                 0.70  \\\n",
       "MAXD                   6.23                 5.82                 1.67   \n",
       "RMSD                   3.82                 3.56                 1.03   \n",
       "MSD                   -2.78                -2.59                -0.67   \n",
       "STDEVD                 2.93                 2.73                 0.87   \n",
       "\n",
       "        CCSD/cc-pV[23]Z  CCSD(T)/cc-pV[23]Z  \n",
       "MAD                1.04                0.00  \n",
       "MAXD               2.32                0.00  \n",
       "RMSD               1.38                0.00  \n",
       "MSD               -0.97                0.00  \n",
       "STDEVD             1.10                0.00  "
      ]
     },
     "execution_count": 73,
     "metadata": {},
     "output_type": "execute_result"
    }
   ],
   "source": [
    "results_with_extrapolation = results\n",
    "for method in results_with_extrapolation.keys():\n",
    "    results_with_extrapolation[method]['cc-pV[23]Z'] = extrapolate[method]\n",
    "results_with_extrapolation\n",
    "results = results_with_extrapolation\n",
    "\n",
    "pd.options.display.float_format = '{:,.2f}'.format\n",
    "analyse=pymolpro.database.analyse([result['cc-pV[23]Z'] for result in results.values()],results['CCSD(T)']['cc-pV[23]Z'],unit='kJ/mol')\n",
    "analyse['reaction statistics']"
   ]
  },
  {
   "cell_type": "code",
   "execution_count": 74,
   "id": "e35b1188-3a64-4c49-bfde-c79c76b67225",
   "metadata": {},
   "outputs": [
    {
     "data": {
      "image/png": "[encoded data removed]",
      "text/plain": [
       "<Figure size 1800x600 with 2 Axes>"
      ]
     },
     "metadata": {},
     "output_type": "display_data"
    }
   ],
   "source": [
    "import matplotlib.pyplot as plt\n",
    "\n",
    "methods_pruned = [method for method in methods if (method != 'HF') and (method != 'CCSD(T)')]\n",
    "bases_pruned = ['cc-pV[23]Z', 'cc-pVTZ']\n",
    "fig, panes = plt.subplots(nrows=1, ncols=len(bases_pruned), sharey=True, figsize=(18, 6))\n",
    "\n",
    "for pane in range(len(bases_pruned)):\n",
    "    data = []\n",
    "    for method in methods_pruned:\n",
    "        data.append(\n",
    "            pymolpro.database.analyse(results[method][bases_pruned[pane]],\n",
    "                                      results['CCSD(T)']['cc-pV[23]Z'],'kJ/mol')['reaction energy deviations'].to_numpy()[:, 0]\n",
    "        )\n",
    "    panes[pane].violinplot(data, showmeans=True, showextrema=True, vert=True, bw_method='silverman')\n",
    "    panes[pane].set_xticks(range(1, len(methods_pruned) + 1), labels=methods_pruned, rotation=-90)\n",
    "    panes[pane].set_title(bases_pruned[pane])\n",
    "panes[0].set_ylabel('Error / kJ/mol')\n",
    "plt.savefig(project_name + \".violin.pdf\")\n"
   ]
  },
  {
   "cell_type": "code",
   "execution_count": null,
   "id": "962a17df-b825-49c9-a152-c307df1ab94f",
   "metadata": {},
   "outputs": [],
   "source": []
  }
 ],
 "metadata": {
  "kernelspec": {
   "display_name": "Python [conda env:persistent] *",
   "language": "python",
   "name": "conda-env-persistent-py"
  },
  "language_info": {
   "codemirror_mode": {
    "name": "ipython",
    "version": 3
   },
   "file_extension": ".py",
   "mimetype": "text/x-python",
   "name": "python",
   "nbconvert_exporter": "python",
   "pygments_lexer": "ipython3",
   "version": "3.10.10"
  }
 },
 "nbformat": 4,
 "nbformat_minor": 5
}
