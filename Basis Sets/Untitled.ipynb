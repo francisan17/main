{
 "cells": [
  {
   "cell_type": "code",
   "execution_count": null,
   "id": "09bc6168-76c1-48bb-852e-22cda0d9ee1d",
   "metadata": {},
   "outputs": [],
   "source": []
  },
  {
   "cell_type": "code",
   "execution_count": null,
   "id": "915a02b9-6b27-4c01-92a9-36aded008dbd",
   "metadata": {},
   "outputs": [],
   "source": [
    "pymolpro.database.basis_extrapolate(results[method].values(), hf_results)"
   ]
  }
 ],
 "metadata": {
  "kernelspec": {
   "display_name": "Python [conda env:persistent] *",
   "language": "python",
   "name": "conda-env-persistent-py"
  },
  "language_info": {
   "codemirror_mode": {
    "name": "ipython",
    "version": 3
   },
   "file_extension": ".py",
   "mimetype": "text/x-python",
   "name": "python",
   "nbconvert_exporter": "python",
   "pygments_lexer": "ipython3",
   "version": "3.10.10"
  }
 },
 "nbformat": 4,
 "nbformat_minor": 5
}
